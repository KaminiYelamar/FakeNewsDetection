{
  "cells": [
    {
      "cell_type": "markdown",
      "source": [
        "## Recurrent Neural Netowrk implementation for classifying Fake News"
      ],
      "metadata": {
        "id": "JVS3rGhhmcH-"
      },
      "id": "JVS3rGhhmcH-"
    },
    {
      "cell_type": "code",
      "execution_count": null,
      "id": "69c252a5",
      "metadata": {
        "execution": {
          "iopub.execute_input": "2023-10-31T19:39:06.450571Z",
          "iopub.status.busy": "2023-10-31T19:39:06.449467Z",
          "iopub.status.idle": "2023-10-31T19:39:17.280947Z",
          "shell.execute_reply": "2023-10-31T19:39:17.279971Z"
        },
        "papermill": {
          "duration": 10.852578,
          "end_time": "2023-10-31T19:39:17.283677",
          "exception": false,
          "start_time": "2023-10-31T19:39:06.431099",
          "status": "completed"
        },
        "tags": [],
        "colab": {
          "base_uri": "https://localhost:8080/"
        },
        "id": "69c252a5",
        "outputId": "277081bb-b728-4dd3-8547-673b2ee093e7"
      },
      "outputs": [
        {
          "output_type": "stream",
          "name": "stderr",
          "text": [
            "[nltk_data] Downloading package stopwords to /root/nltk_data...\n",
            "[nltk_data]   Package stopwords is already up-to-date!\n"
          ]
        }
      ],
      "source": [
        "import pandas as pd\n",
        "import numpy as np\n",
        "import matplotlib.pyplot as plt\n",
        "import seaborn as sns\n",
        "import nltk\n",
        "import re\n",
        "from nltk.corpus import stopwords\n",
        "nltk.download('stopwords')\n",
        "from nltk.stem.porter import PorterStemmer\n",
        "import tensorflow as tf\n",
        "from tensorflow.keras.layers import Embedding\n",
        "from tensorflow.keras.preprocessing.sequence import pad_sequences\n",
        "from tensorflow.keras.models import Sequential\n",
        "from tensorflow.keras.preprocessing.text import one_hot\n",
        "from tensorflow.keras.layers import Dropout\n",
        "from tensorflow.keras.layers import LSTM, SimpleRNN, Bidirectional,GRU\n",
        "from tensorflow.keras.layers import Dense\n",
        "from sklearn.model_selection import train_test_split\n",
        "from sklearn.metrics import confusion_matrix\n",
        "from sklearn.metrics import accuracy_score\n",
        "from sklearn.metrics import classification_report\n",
        "# tf.__version__\n",
        "import warnings\n",
        "warnings.filterwarnings(\"ignore\")"
      ]
    },
    {
      "cell_type": "code",
      "execution_count": null,
      "id": "b8acfc8f",
      "metadata": {
        "execution": {
          "iopub.execute_input": "2023-10-31T19:39:17.319236Z",
          "iopub.status.busy": "2023-10-31T19:39:17.318503Z",
          "iopub.status.idle": "2023-10-31T19:39:20.474461Z",
          "shell.execute_reply": "2023-10-31T19:39:20.473480Z"
        },
        "papermill": {
          "duration": 3.17652,
          "end_time": "2023-10-31T19:39:20.477419",
          "exception": false,
          "start_time": "2023-10-31T19:39:17.300899",
          "status": "completed"
        },
        "tags": [],
        "id": "b8acfc8f"
      },
      "outputs": [],
      "source": [
        "train_df = pd.read_csv(\"train.csv\")\n",
        "test_df = pd.read_csv(\"test.csv\")"
      ]
    },
    {
      "cell_type": "code",
      "execution_count": null,
      "id": "2590d035",
      "metadata": {
        "execution": {
          "iopub.execute_input": "2023-10-31T19:39:20.512677Z",
          "iopub.status.busy": "2023-10-31T19:39:20.512282Z",
          "iopub.status.idle": "2023-10-31T19:39:20.519911Z",
          "shell.execute_reply": "2023-10-31T19:39:20.518838Z"
        },
        "papermill": {
          "duration": 0.027848,
          "end_time": "2023-10-31T19:39:20.522186",
          "exception": false,
          "start_time": "2023-10-31T19:39:20.494338",
          "status": "completed"
        },
        "tags": [],
        "colab": {
          "base_uri": "https://localhost:8080/"
        },
        "id": "2590d035",
        "outputId": "9817b15e-c1b4-4055-a671-d7dedd485e8a"
      },
      "outputs": [
        {
          "output_type": "execute_result",
          "data": {
            "text/plain": [
              "(20800, 5)"
            ]
          },
          "metadata": {},
          "execution_count": 16
        }
      ],
      "source": [
        "train_df.shape"
      ]
    },
    {
      "cell_type": "code",
      "execution_count": null,
      "id": "1033df05",
      "metadata": {
        "execution": {
          "iopub.execute_input": "2023-10-31T19:39:20.557381Z",
          "iopub.status.busy": "2023-10-31T19:39:20.557019Z",
          "iopub.status.idle": "2023-10-31T19:39:20.578835Z",
          "shell.execute_reply": "2023-10-31T19:39:20.577537Z"
        },
        "papermill": {
          "duration": 0.04261,
          "end_time": "2023-10-31T19:39:20.581406",
          "exception": false,
          "start_time": "2023-10-31T19:39:20.538796",
          "status": "completed"
        },
        "tags": [],
        "colab": {
          "base_uri": "https://localhost:8080/",
          "height": 206
        },
        "id": "1033df05",
        "outputId": "89d427c4-d68f-4447-94e6-15caf08d49e9"
      },
      "outputs": [
        {
          "output_type": "execute_result",
          "data": {
            "text/plain": [
              "   id                                              title              author  \\\n",
              "0   0  House Dem Aide: We Didn’t Even See Comey’s Let...       Darrell Lucus   \n",
              "1   1  FLYNN: Hillary Clinton, Big Woman on Campus - ...     Daniel J. Flynn   \n",
              "2   2                  Why the Truth Might Get You Fired  Consortiumnews.com   \n",
              "3   3  15 Civilians Killed In Single US Airstrike Hav...     Jessica Purkiss   \n",
              "4   4  Iranian woman jailed for fictional unpublished...      Howard Portnoy   \n",
              "\n",
              "                                                text  label  \n",
              "0  House Dem Aide: We Didn’t Even See Comey’s Let...      1  \n",
              "1  Ever get the feeling your life circles the rou...      0  \n",
              "2  Why the Truth Might Get You Fired October 29, ...      1  \n",
              "3  Videos 15 Civilians Killed In Single US Airstr...      1  \n",
              "4  Print \\nAn Iranian woman has been sentenced to...      1  "
            ],
            "text/html": [
              "\n",
              "  <div id=\"df-be4b0c1a-43df-434e-aab4-223fac1237a7\" class=\"colab-df-container\">\n",
              "    <div>\n",
              "<style scoped>\n",
              "    .dataframe tbody tr th:only-of-type {\n",
              "        vertical-align: middle;\n",
              "    }\n",
              "\n",
              "    .dataframe tbody tr th {\n",
              "        vertical-align: top;\n",
              "    }\n",
              "\n",
              "    .dataframe thead th {\n",
              "        text-align: right;\n",
              "    }\n",
              "</style>\n",
              "<table border=\"1\" class=\"dataframe\">\n",
              "  <thead>\n",
              "    <tr style=\"text-align: right;\">\n",
              "      <th></th>\n",
              "      <th>id</th>\n",
              "      <th>title</th>\n",
              "      <th>author</th>\n",
              "      <th>text</th>\n",
              "      <th>label</th>\n",
              "    </tr>\n",
              "  </thead>\n",
              "  <tbody>\n",
              "    <tr>\n",
              "      <th>0</th>\n",
              "      <td>0</td>\n",
              "      <td>House Dem Aide: We Didn’t Even See Comey’s Let...</td>\n",
              "      <td>Darrell Lucus</td>\n",
              "      <td>House Dem Aide: We Didn’t Even See Comey’s Let...</td>\n",
              "      <td>1</td>\n",
              "    </tr>\n",
              "    <tr>\n",
              "      <th>1</th>\n",
              "      <td>1</td>\n",
              "      <td>FLYNN: Hillary Clinton, Big Woman on Campus - ...</td>\n",
              "      <td>Daniel J. Flynn</td>\n",
              "      <td>Ever get the feeling your life circles the rou...</td>\n",
              "      <td>0</td>\n",
              "    </tr>\n",
              "    <tr>\n",
              "      <th>2</th>\n",
              "      <td>2</td>\n",
              "      <td>Why the Truth Might Get You Fired</td>\n",
              "      <td>Consortiumnews.com</td>\n",
              "      <td>Why the Truth Might Get You Fired October 29, ...</td>\n",
              "      <td>1</td>\n",
              "    </tr>\n",
              "    <tr>\n",
              "      <th>3</th>\n",
              "      <td>3</td>\n",
              "      <td>15 Civilians Killed In Single US Airstrike Hav...</td>\n",
              "      <td>Jessica Purkiss</td>\n",
              "      <td>Videos 15 Civilians Killed In Single US Airstr...</td>\n",
              "      <td>1</td>\n",
              "    </tr>\n",
              "    <tr>\n",
              "      <th>4</th>\n",
              "      <td>4</td>\n",
              "      <td>Iranian woman jailed for fictional unpublished...</td>\n",
              "      <td>Howard Portnoy</td>\n",
              "      <td>Print \\nAn Iranian woman has been sentenced to...</td>\n",
              "      <td>1</td>\n",
              "    </tr>\n",
              "  </tbody>\n",
              "</table>\n",
              "</div>\n",
              "    <div class=\"colab-df-buttons\">\n",
              "\n",
              "  <div class=\"colab-df-container\">\n",
              "    <button class=\"colab-df-convert\" onclick=\"convertToInteractive('df-be4b0c1a-43df-434e-aab4-223fac1237a7')\"\n",
              "            title=\"Convert this dataframe to an interactive table.\"\n",
              "            style=\"display:none;\">\n",
              "\n",
              "  <svg xmlns=\"http://www.w3.org/2000/svg\" height=\"24px\" viewBox=\"0 -960 960 960\">\n",
              "    <path d=\"M120-120v-720h720v720H120Zm60-500h600v-160H180v160Zm220 220h160v-160H400v160Zm0 220h160v-160H400v160ZM180-400h160v-160H180v160Zm440 0h160v-160H620v160ZM180-180h160v-160H180v160Zm440 0h160v-160H620v160Z\"/>\n",
              "  </svg>\n",
              "    </button>\n",
              "\n",
              "  <style>\n",
              "    .colab-df-container {\n",
              "      display:flex;\n",
              "      gap: 12px;\n",
              "    }\n",
              "\n",
              "    .colab-df-convert {\n",
              "      background-color: #E8F0FE;\n",
              "      border: none;\n",
              "      border-radius: 50%;\n",
              "      cursor: pointer;\n",
              "      display: none;\n",
              "      fill: #1967D2;\n",
              "      height: 32px;\n",
              "      padding: 0 0 0 0;\n",
              "      width: 32px;\n",
              "    }\n",
              "\n",
              "    .colab-df-convert:hover {\n",
              "      background-color: #E2EBFA;\n",
              "      box-shadow: 0px 1px 2px rgba(60, 64, 67, 0.3), 0px 1px 3px 1px rgba(60, 64, 67, 0.15);\n",
              "      fill: #174EA6;\n",
              "    }\n",
              "\n",
              "    .colab-df-buttons div {\n",
              "      margin-bottom: 4px;\n",
              "    }\n",
              "\n",
              "    [theme=dark] .colab-df-convert {\n",
              "      background-color: #3B4455;\n",
              "      fill: #D2E3FC;\n",
              "    }\n",
              "\n",
              "    [theme=dark] .colab-df-convert:hover {\n",
              "      background-color: #434B5C;\n",
              "      box-shadow: 0px 1px 3px 1px rgba(0, 0, 0, 0.15);\n",
              "      filter: drop-shadow(0px 1px 2px rgba(0, 0, 0, 0.3));\n",
              "      fill: #FFFFFF;\n",
              "    }\n",
              "  </style>\n",
              "\n",
              "    <script>\n",
              "      const buttonEl =\n",
              "        document.querySelector('#df-be4b0c1a-43df-434e-aab4-223fac1237a7 button.colab-df-convert');\n",
              "      buttonEl.style.display =\n",
              "        google.colab.kernel.accessAllowed ? 'block' : 'none';\n",
              "\n",
              "      async function convertToInteractive(key) {\n",
              "        const element = document.querySelector('#df-be4b0c1a-43df-434e-aab4-223fac1237a7');\n",
              "        const dataTable =\n",
              "          await google.colab.kernel.invokeFunction('convertToInteractive',\n",
              "                                                    [key], {});\n",
              "        if (!dataTable) return;\n",
              "\n",
              "        const docLinkHtml = 'Like what you see? Visit the ' +\n",
              "          '<a target=\"_blank\" href=https://colab.research.google.com/notebooks/data_table.ipynb>data table notebook</a>'\n",
              "          + ' to learn more about interactive tables.';\n",
              "        element.innerHTML = '';\n",
              "        dataTable['output_type'] = 'display_data';\n",
              "        await google.colab.output.renderOutput(dataTable, element);\n",
              "        const docLink = document.createElement('div');\n",
              "        docLink.innerHTML = docLinkHtml;\n",
              "        element.appendChild(docLink);\n",
              "      }\n",
              "    </script>\n",
              "  </div>\n",
              "\n",
              "\n",
              "<div id=\"df-1b2ec721-7f8c-4d22-87b5-84a9421bc35c\">\n",
              "  <button class=\"colab-df-quickchart\" onclick=\"quickchart('df-1b2ec721-7f8c-4d22-87b5-84a9421bc35c')\"\n",
              "            title=\"Suggest charts\"\n",
              "            style=\"display:none;\">\n",
              "\n",
              "<svg xmlns=\"http://www.w3.org/2000/svg\" height=\"24px\"viewBox=\"0 0 24 24\"\n",
              "     width=\"24px\">\n",
              "    <g>\n",
              "        <path d=\"M19 3H5c-1.1 0-2 .9-2 2v14c0 1.1.9 2 2 2h14c1.1 0 2-.9 2-2V5c0-1.1-.9-2-2-2zM9 17H7v-7h2v7zm4 0h-2V7h2v10zm4 0h-2v-4h2v4z\"/>\n",
              "    </g>\n",
              "</svg>\n",
              "  </button>\n",
              "\n",
              "<style>\n",
              "  .colab-df-quickchart {\n",
              "      --bg-color: #E8F0FE;\n",
              "      --fill-color: #1967D2;\n",
              "      --hover-bg-color: #E2EBFA;\n",
              "      --hover-fill-color: #174EA6;\n",
              "      --disabled-fill-color: #AAA;\n",
              "      --disabled-bg-color: #DDD;\n",
              "  }\n",
              "\n",
              "  [theme=dark] .colab-df-quickchart {\n",
              "      --bg-color: #3B4455;\n",
              "      --fill-color: #D2E3FC;\n",
              "      --hover-bg-color: #434B5C;\n",
              "      --hover-fill-color: #FFFFFF;\n",
              "      --disabled-bg-color: #3B4455;\n",
              "      --disabled-fill-color: #666;\n",
              "  }\n",
              "\n",
              "  .colab-df-quickchart {\n",
              "    background-color: var(--bg-color);\n",
              "    border: none;\n",
              "    border-radius: 50%;\n",
              "    cursor: pointer;\n",
              "    display: none;\n",
              "    fill: var(--fill-color);\n",
              "    height: 32px;\n",
              "    padding: 0;\n",
              "    width: 32px;\n",
              "  }\n",
              "\n",
              "  .colab-df-quickchart:hover {\n",
              "    background-color: var(--hover-bg-color);\n",
              "    box-shadow: 0 1px 2px rgba(60, 64, 67, 0.3), 0 1px 3px 1px rgba(60, 64, 67, 0.15);\n",
              "    fill: var(--button-hover-fill-color);\n",
              "  }\n",
              "\n",
              "  .colab-df-quickchart-complete:disabled,\n",
              "  .colab-df-quickchart-complete:disabled:hover {\n",
              "    background-color: var(--disabled-bg-color);\n",
              "    fill: var(--disabled-fill-color);\n",
              "    box-shadow: none;\n",
              "  }\n",
              "\n",
              "  .colab-df-spinner {\n",
              "    border: 2px solid var(--fill-color);\n",
              "    border-color: transparent;\n",
              "    border-bottom-color: var(--fill-color);\n",
              "    animation:\n",
              "      spin 1s steps(1) infinite;\n",
              "  }\n",
              "\n",
              "  @keyframes spin {\n",
              "    0% {\n",
              "      border-color: transparent;\n",
              "      border-bottom-color: var(--fill-color);\n",
              "      border-left-color: var(--fill-color);\n",
              "    }\n",
              "    20% {\n",
              "      border-color: transparent;\n",
              "      border-left-color: var(--fill-color);\n",
              "      border-top-color: var(--fill-color);\n",
              "    }\n",
              "    30% {\n",
              "      border-color: transparent;\n",
              "      border-left-color: var(--fill-color);\n",
              "      border-top-color: var(--fill-color);\n",
              "      border-right-color: var(--fill-color);\n",
              "    }\n",
              "    40% {\n",
              "      border-color: transparent;\n",
              "      border-right-color: var(--fill-color);\n",
              "      border-top-color: var(--fill-color);\n",
              "    }\n",
              "    60% {\n",
              "      border-color: transparent;\n",
              "      border-right-color: var(--fill-color);\n",
              "    }\n",
              "    80% {\n",
              "      border-color: transparent;\n",
              "      border-right-color: var(--fill-color);\n",
              "      border-bottom-color: var(--fill-color);\n",
              "    }\n",
              "    90% {\n",
              "      border-color: transparent;\n",
              "      border-bottom-color: var(--fill-color);\n",
              "    }\n",
              "  }\n",
              "</style>\n",
              "\n",
              "  <script>\n",
              "    async function quickchart(key) {\n",
              "      const quickchartButtonEl =\n",
              "        document.querySelector('#' + key + ' button');\n",
              "      quickchartButtonEl.disabled = true;  // To prevent multiple clicks.\n",
              "      quickchartButtonEl.classList.add('colab-df-spinner');\n",
              "      try {\n",
              "        const charts = await google.colab.kernel.invokeFunction(\n",
              "            'suggestCharts', [key], {});\n",
              "      } catch (error) {\n",
              "        console.error('Error during call to suggestCharts:', error);\n",
              "      }\n",
              "      quickchartButtonEl.classList.remove('colab-df-spinner');\n",
              "      quickchartButtonEl.classList.add('colab-df-quickchart-complete');\n",
              "    }\n",
              "    (() => {\n",
              "      let quickchartButtonEl =\n",
              "        document.querySelector('#df-1b2ec721-7f8c-4d22-87b5-84a9421bc35c button');\n",
              "      quickchartButtonEl.style.display =\n",
              "        google.colab.kernel.accessAllowed ? 'block' : 'none';\n",
              "    })();\n",
              "  </script>\n",
              "</div>\n",
              "    </div>\n",
              "  </div>\n"
            ]
          },
          "metadata": {},
          "execution_count": 17
        }
      ],
      "source": [
        "train_df.head(5)"
      ]
    },
    {
      "cell_type": "code",
      "execution_count": null,
      "id": "124be49e",
      "metadata": {
        "execution": {
          "iopub.execute_input": "2023-10-31T19:39:20.618086Z",
          "iopub.status.busy": "2023-10-31T19:39:20.617654Z",
          "iopub.status.idle": "2023-10-31T19:39:20.629506Z",
          "shell.execute_reply": "2023-10-31T19:39:20.628475Z"
        },
        "papermill": {
          "duration": 0.033075,
          "end_time": "2023-10-31T19:39:20.632024",
          "exception": false,
          "start_time": "2023-10-31T19:39:20.598949",
          "status": "completed"
        },
        "tags": [],
        "colab": {
          "base_uri": "https://localhost:8080/",
          "height": 206
        },
        "id": "124be49e",
        "outputId": "e491d452-6d67-4b93-e951-b705f5578189"
      },
      "outputs": [
        {
          "output_type": "execute_result",
          "data": {
            "text/plain": [
              "      id                                              title  \\\n",
              "0  20800  Specter of Trump Loosens Tongues, if Not Purse...   \n",
              "1  20801  Russian warships ready to strike terrorists ne...   \n",
              "2  20802  #NoDAPL: Native American Leaders Vow to Stay A...   \n",
              "3  20803  Tim Tebow Will Attempt Another Comeback, This ...   \n",
              "4  20804                    Keiser Report: Meme Wars (E995)   \n",
              "\n",
              "                    author                                               text  \n",
              "0         David Streitfeld  PALO ALTO, Calif.  —   After years of scorning...  \n",
              "1                      NaN  Russian warships ready to strike terrorists ne...  \n",
              "2            Common Dreams  Videos #NoDAPL: Native American Leaders Vow to...  \n",
              "3            Daniel Victor  If at first you don’t succeed, try a different...  \n",
              "4  Truth Broadcast Network  42 mins ago 1 Views 0 Comments 0 Likes 'For th...  "
            ],
            "text/html": [
              "\n",
              "  <div id=\"df-25c5c09d-5669-4256-b16e-16d23ca23399\" class=\"colab-df-container\">\n",
              "    <div>\n",
              "<style scoped>\n",
              "    .dataframe tbody tr th:only-of-type {\n",
              "        vertical-align: middle;\n",
              "    }\n",
              "\n",
              "    .dataframe tbody tr th {\n",
              "        vertical-align: top;\n",
              "    }\n",
              "\n",
              "    .dataframe thead th {\n",
              "        text-align: right;\n",
              "    }\n",
              "</style>\n",
              "<table border=\"1\" class=\"dataframe\">\n",
              "  <thead>\n",
              "    <tr style=\"text-align: right;\">\n",
              "      <th></th>\n",
              "      <th>id</th>\n",
              "      <th>title</th>\n",
              "      <th>author</th>\n",
              "      <th>text</th>\n",
              "    </tr>\n",
              "  </thead>\n",
              "  <tbody>\n",
              "    <tr>\n",
              "      <th>0</th>\n",
              "      <td>20800</td>\n",
              "      <td>Specter of Trump Loosens Tongues, if Not Purse...</td>\n",
              "      <td>David Streitfeld</td>\n",
              "      <td>PALO ALTO, Calif.  —   After years of scorning...</td>\n",
              "    </tr>\n",
              "    <tr>\n",
              "      <th>1</th>\n",
              "      <td>20801</td>\n",
              "      <td>Russian warships ready to strike terrorists ne...</td>\n",
              "      <td>NaN</td>\n",
              "      <td>Russian warships ready to strike terrorists ne...</td>\n",
              "    </tr>\n",
              "    <tr>\n",
              "      <th>2</th>\n",
              "      <td>20802</td>\n",
              "      <td>#NoDAPL: Native American Leaders Vow to Stay A...</td>\n",
              "      <td>Common Dreams</td>\n",
              "      <td>Videos #NoDAPL: Native American Leaders Vow to...</td>\n",
              "    </tr>\n",
              "    <tr>\n",
              "      <th>3</th>\n",
              "      <td>20803</td>\n",
              "      <td>Tim Tebow Will Attempt Another Comeback, This ...</td>\n",
              "      <td>Daniel Victor</td>\n",
              "      <td>If at first you don’t succeed, try a different...</td>\n",
              "    </tr>\n",
              "    <tr>\n",
              "      <th>4</th>\n",
              "      <td>20804</td>\n",
              "      <td>Keiser Report: Meme Wars (E995)</td>\n",
              "      <td>Truth Broadcast Network</td>\n",
              "      <td>42 mins ago 1 Views 0 Comments 0 Likes 'For th...</td>\n",
              "    </tr>\n",
              "  </tbody>\n",
              "</table>\n",
              "</div>\n",
              "    <div class=\"colab-df-buttons\">\n",
              "\n",
              "  <div class=\"colab-df-container\">\n",
              "    <button class=\"colab-df-convert\" onclick=\"convertToInteractive('df-25c5c09d-5669-4256-b16e-16d23ca23399')\"\n",
              "            title=\"Convert this dataframe to an interactive table.\"\n",
              "            style=\"display:none;\">\n",
              "\n",
              "  <svg xmlns=\"http://www.w3.org/2000/svg\" height=\"24px\" viewBox=\"0 -960 960 960\">\n",
              "    <path d=\"M120-120v-720h720v720H120Zm60-500h600v-160H180v160Zm220 220h160v-160H400v160Zm0 220h160v-160H400v160ZM180-400h160v-160H180v160Zm440 0h160v-160H620v160ZM180-180h160v-160H180v160Zm440 0h160v-160H620v160Z\"/>\n",
              "  </svg>\n",
              "    </button>\n",
              "\n",
              "  <style>\n",
              "    .colab-df-container {\n",
              "      display:flex;\n",
              "      gap: 12px;\n",
              "    }\n",
              "\n",
              "    .colab-df-convert {\n",
              "      background-color: #E8F0FE;\n",
              "      border: none;\n",
              "      border-radius: 50%;\n",
              "      cursor: pointer;\n",
              "      display: none;\n",
              "      fill: #1967D2;\n",
              "      height: 32px;\n",
              "      padding: 0 0 0 0;\n",
              "      width: 32px;\n",
              "    }\n",
              "\n",
              "    .colab-df-convert:hover {\n",
              "      background-color: #E2EBFA;\n",
              "      box-shadow: 0px 1px 2px rgba(60, 64, 67, 0.3), 0px 1px 3px 1px rgba(60, 64, 67, 0.15);\n",
              "      fill: #174EA6;\n",
              "    }\n",
              "\n",
              "    .colab-df-buttons div {\n",
              "      margin-bottom: 4px;\n",
              "    }\n",
              "\n",
              "    [theme=dark] .colab-df-convert {\n",
              "      background-color: #3B4455;\n",
              "      fill: #D2E3FC;\n",
              "    }\n",
              "\n",
              "    [theme=dark] .colab-df-convert:hover {\n",
              "      background-color: #434B5C;\n",
              "      box-shadow: 0px 1px 3px 1px rgba(0, 0, 0, 0.15);\n",
              "      filter: drop-shadow(0px 1px 2px rgba(0, 0, 0, 0.3));\n",
              "      fill: #FFFFFF;\n",
              "    }\n",
              "  </style>\n",
              "\n",
              "    <script>\n",
              "      const buttonEl =\n",
              "        document.querySelector('#df-25c5c09d-5669-4256-b16e-16d23ca23399 button.colab-df-convert');\n",
              "      buttonEl.style.display =\n",
              "        google.colab.kernel.accessAllowed ? 'block' : 'none';\n",
              "\n",
              "      async function convertToInteractive(key) {\n",
              "        const element = document.querySelector('#df-25c5c09d-5669-4256-b16e-16d23ca23399');\n",
              "        const dataTable =\n",
              "          await google.colab.kernel.invokeFunction('convertToInteractive',\n",
              "                                                    [key], {});\n",
              "        if (!dataTable) return;\n",
              "\n",
              "        const docLinkHtml = 'Like what you see? Visit the ' +\n",
              "          '<a target=\"_blank\" href=https://colab.research.google.com/notebooks/data_table.ipynb>data table notebook</a>'\n",
              "          + ' to learn more about interactive tables.';\n",
              "        element.innerHTML = '';\n",
              "        dataTable['output_type'] = 'display_data';\n",
              "        await google.colab.output.renderOutput(dataTable, element);\n",
              "        const docLink = document.createElement('div');\n",
              "        docLink.innerHTML = docLinkHtml;\n",
              "        element.appendChild(docLink);\n",
              "      }\n",
              "    </script>\n",
              "  </div>\n",
              "\n",
              "\n",
              "<div id=\"df-e088bdaa-f36c-4432-a8ea-162666bae6a9\">\n",
              "  <button class=\"colab-df-quickchart\" onclick=\"quickchart('df-e088bdaa-f36c-4432-a8ea-162666bae6a9')\"\n",
              "            title=\"Suggest charts\"\n",
              "            style=\"display:none;\">\n",
              "\n",
              "<svg xmlns=\"http://www.w3.org/2000/svg\" height=\"24px\"viewBox=\"0 0 24 24\"\n",
              "     width=\"24px\">\n",
              "    <g>\n",
              "        <path d=\"M19 3H5c-1.1 0-2 .9-2 2v14c0 1.1.9 2 2 2h14c1.1 0 2-.9 2-2V5c0-1.1-.9-2-2-2zM9 17H7v-7h2v7zm4 0h-2V7h2v10zm4 0h-2v-4h2v4z\"/>\n",
              "    </g>\n",
              "</svg>\n",
              "  </button>\n",
              "\n",
              "<style>\n",
              "  .colab-df-quickchart {\n",
              "      --bg-color: #E8F0FE;\n",
              "      --fill-color: #1967D2;\n",
              "      --hover-bg-color: #E2EBFA;\n",
              "      --hover-fill-color: #174EA6;\n",
              "      --disabled-fill-color: #AAA;\n",
              "      --disabled-bg-color: #DDD;\n",
              "  }\n",
              "\n",
              "  [theme=dark] .colab-df-quickchart {\n",
              "      --bg-color: #3B4455;\n",
              "      --fill-color: #D2E3FC;\n",
              "      --hover-bg-color: #434B5C;\n",
              "      --hover-fill-color: #FFFFFF;\n",
              "      --disabled-bg-color: #3B4455;\n",
              "      --disabled-fill-color: #666;\n",
              "  }\n",
              "\n",
              "  .colab-df-quickchart {\n",
              "    background-color: var(--bg-color);\n",
              "    border: none;\n",
              "    border-radius: 50%;\n",
              "    cursor: pointer;\n",
              "    display: none;\n",
              "    fill: var(--fill-color);\n",
              "    height: 32px;\n",
              "    padding: 0;\n",
              "    width: 32px;\n",
              "  }\n",
              "\n",
              "  .colab-df-quickchart:hover {\n",
              "    background-color: var(--hover-bg-color);\n",
              "    box-shadow: 0 1px 2px rgba(60, 64, 67, 0.3), 0 1px 3px 1px rgba(60, 64, 67, 0.15);\n",
              "    fill: var(--button-hover-fill-color);\n",
              "  }\n",
              "\n",
              "  .colab-df-quickchart-complete:disabled,\n",
              "  .colab-df-quickchart-complete:disabled:hover {\n",
              "    background-color: var(--disabled-bg-color);\n",
              "    fill: var(--disabled-fill-color);\n",
              "    box-shadow: none;\n",
              "  }\n",
              "\n",
              "  .colab-df-spinner {\n",
              "    border: 2px solid var(--fill-color);\n",
              "    border-color: transparent;\n",
              "    border-bottom-color: var(--fill-color);\n",
              "    animation:\n",
              "      spin 1s steps(1) infinite;\n",
              "  }\n",
              "\n",
              "  @keyframes spin {\n",
              "    0% {\n",
              "      border-color: transparent;\n",
              "      border-bottom-color: var(--fill-color);\n",
              "      border-left-color: var(--fill-color);\n",
              "    }\n",
              "    20% {\n",
              "      border-color: transparent;\n",
              "      border-left-color: var(--fill-color);\n",
              "      border-top-color: var(--fill-color);\n",
              "    }\n",
              "    30% {\n",
              "      border-color: transparent;\n",
              "      border-left-color: var(--fill-color);\n",
              "      border-top-color: var(--fill-color);\n",
              "      border-right-color: var(--fill-color);\n",
              "    }\n",
              "    40% {\n",
              "      border-color: transparent;\n",
              "      border-right-color: var(--fill-color);\n",
              "      border-top-color: var(--fill-color);\n",
              "    }\n",
              "    60% {\n",
              "      border-color: transparent;\n",
              "      border-right-color: var(--fill-color);\n",
              "    }\n",
              "    80% {\n",
              "      border-color: transparent;\n",
              "      border-right-color: var(--fill-color);\n",
              "      border-bottom-color: var(--fill-color);\n",
              "    }\n",
              "    90% {\n",
              "      border-color: transparent;\n",
              "      border-bottom-color: var(--fill-color);\n",
              "    }\n",
              "  }\n",
              "</style>\n",
              "\n",
              "  <script>\n",
              "    async function quickchart(key) {\n",
              "      const quickchartButtonEl =\n",
              "        document.querySelector('#' + key + ' button');\n",
              "      quickchartButtonEl.disabled = true;  // To prevent multiple clicks.\n",
              "      quickchartButtonEl.classList.add('colab-df-spinner');\n",
              "      try {\n",
              "        const charts = await google.colab.kernel.invokeFunction(\n",
              "            'suggestCharts', [key], {});\n",
              "      } catch (error) {\n",
              "        console.error('Error during call to suggestCharts:', error);\n",
              "      }\n",
              "      quickchartButtonEl.classList.remove('colab-df-spinner');\n",
              "      quickchartButtonEl.classList.add('colab-df-quickchart-complete');\n",
              "    }\n",
              "    (() => {\n",
              "      let quickchartButtonEl =\n",
              "        document.querySelector('#df-e088bdaa-f36c-4432-a8ea-162666bae6a9 button');\n",
              "      quickchartButtonEl.style.display =\n",
              "        google.colab.kernel.accessAllowed ? 'block' : 'none';\n",
              "    })();\n",
              "  </script>\n",
              "</div>\n",
              "    </div>\n",
              "  </div>\n"
            ]
          },
          "metadata": {},
          "execution_count": 18
        }
      ],
      "source": [
        "test_df.head()"
      ]
    },
    {
      "cell_type": "code",
      "execution_count": null,
      "id": "294624d5",
      "metadata": {
        "execution": {
          "iopub.execute_input": "2023-10-31T19:39:20.669444Z",
          "iopub.status.busy": "2023-10-31T19:39:20.669042Z",
          "iopub.status.idle": "2023-10-31T19:39:20.937585Z",
          "shell.execute_reply": "2023-10-31T19:39:20.936744Z"
        },
        "papermill": {
          "duration": 0.289774,
          "end_time": "2023-10-31T19:39:20.939657",
          "exception": false,
          "start_time": "2023-10-31T19:39:20.649883",
          "status": "completed"
        },
        "tags": [],
        "colab": {
          "base_uri": "https://localhost:8080/",
          "height": 467
        },
        "id": "294624d5",
        "outputId": "d0f39dd1-8537-412c-cb4f-fad163785698"
      },
      "outputs": [
        {
          "output_type": "execute_result",
          "data": {
            "text/plain": [
              "<Axes: xlabel='label', ylabel='count'>"
            ]
          },
          "metadata": {},
          "execution_count": 19
        },
        {
          "output_type": "display_data",
          "data": {
            "text/plain": [
              "<Figure size 640x480 with 1 Axes>"
            ],
            "image/png": "[encoded data removed]"
          },
          "metadata": {}
        }
      ],
      "source": [
        "sns.countplot(x=train_df['label'])"
      ]
    },
    {
      "cell_type": "code",
      "execution_count": null,
      "id": "7efb0b7b",
      "metadata": {
        "execution": {
          "iopub.execute_input": "2023-10-31T19:39:20.977319Z",
          "iopub.status.busy": "2023-10-31T19:39:20.976198Z",
          "iopub.status.idle": "2023-10-31T19:39:20.982882Z",
          "shell.execute_reply": "2023-10-31T19:39:20.982116Z"
        },
        "papermill": {
          "duration": 0.027645,
          "end_time": "2023-10-31T19:39:20.984937",
          "exception": false,
          "start_time": "2023-10-31T19:39:20.957292",
          "status": "completed"
        },
        "tags": [],
        "colab": {
          "base_uri": "https://localhost:8080/",
          "height": 36
        },
        "id": "7efb0b7b",
        "outputId": "98af8e97-1fa5-4a8d-b1e2-9241b150e1d4"
      },
      "outputs": [
        {
          "output_type": "execute_result",
          "data": {
            "text/plain": [
              "'Technocracy: The Real Reason Why The UN Wants Control Over The Internet'"
            ],
            "application/vnd.google.colaboratory.intrinsic+json": {
              "type": "string"
            }
          },
          "metadata": {},
          "execution_count": 20
        }
      ],
      "source": [
        "train_df['title'][100]"
      ]
    },
    {
      "cell_type": "code",
      "execution_count": null,
      "id": "cbf7a6c7",
      "metadata": {
        "execution": {
          "iopub.execute_input": "2023-10-31T19:39:21.024080Z",
          "iopub.status.busy": "2023-10-31T19:39:21.023232Z",
          "iopub.status.idle": "2023-10-31T19:39:21.039397Z",
          "shell.execute_reply": "2023-10-31T19:39:21.038513Z"
        },
        "papermill": {
          "duration": 0.038523,
          "end_time": "2023-10-31T19:39:21.041504",
          "exception": false,
          "start_time": "2023-10-31T19:39:21.002981",
          "status": "completed"
        },
        "tags": [],
        "colab": {
          "base_uri": "https://localhost:8080/"
        },
        "id": "cbf7a6c7",
        "outputId": "e9b662a5-3cec-48f5-f3d1-f06c73b7d87a"
      },
      "outputs": [
        {
          "output_type": "execute_result",
          "data": {
            "text/plain": [
              "id           0\n",
              "title      558\n",
              "author    1957\n",
              "text        39\n",
              "label        0\n",
              "dtype: int64"
            ]
          },
          "metadata": {},
          "execution_count": 21
        }
      ],
      "source": [
        "train_df.isnull().sum()"
      ]
    },
    {
      "cell_type": "code",
      "execution_count": null,
      "id": "1e9fd13d",
      "metadata": {
        "execution": {
          "iopub.execute_input": "2023-10-31T19:39:21.079870Z",
          "iopub.status.busy": "2023-10-31T19:39:21.079176Z",
          "iopub.status.idle": "2023-10-31T19:39:21.095987Z",
          "shell.execute_reply": "2023-10-31T19:39:21.094849Z"
        },
        "papermill": {
          "duration": 0.039003,
          "end_time": "2023-10-31T19:39:21.098953",
          "exception": false,
          "start_time": "2023-10-31T19:39:21.059950",
          "status": "completed"
        },
        "tags": [],
        "id": "1e9fd13d"
      },
      "outputs": [],
      "source": [
        "train_df.dropna(inplace=True)"
      ]
    },
    {
      "cell_type": "markdown",
      "id": "810bb14e",
      "metadata": {
        "papermill": {
          "duration": 0.017918,
          "end_time": "2023-10-31T19:39:21.136314",
          "exception": false,
          "start_time": "2023-10-31T19:39:21.118396",
          "status": "completed"
        },
        "tags": [],
        "id": "810bb14e"
      },
      "source": [
        "# Data preprocessing"
      ]
    },
    {
      "cell_type": "code",
      "execution_count": null,
      "id": "a8d4436c",
      "metadata": {
        "execution": {
          "iopub.execute_input": "2023-10-31T19:39:21.226905Z",
          "iopub.status.busy": "2023-10-31T19:39:21.226475Z",
          "iopub.status.idle": "2023-10-31T19:39:21.235686Z",
          "shell.execute_reply": "2023-10-31T19:39:21.234946Z"
        },
        "papermill": {
          "duration": 0.083401,
          "end_time": "2023-10-31T19:39:21.237686",
          "exception": false,
          "start_time": "2023-10-31T19:39:21.154285",
          "status": "completed"
        },
        "tags": [],
        "id": "a8d4436c"
      },
      "outputs": [],
      "source": [
        "X = train_df.drop(\"label\", axis = 1)"
      ]
    },
    {
      "cell_type": "code",
      "execution_count": null,
      "id": "2719e55c",
      "metadata": {
        "execution": {
          "iopub.execute_input": "2023-10-31T19:39:21.275406Z",
          "iopub.status.busy": "2023-10-31T19:39:21.274261Z",
          "iopub.status.idle": "2023-10-31T19:39:21.279430Z",
          "shell.execute_reply": "2023-10-31T19:39:21.278275Z"
        },
        "papermill": {
          "duration": 0.026236,
          "end_time": "2023-10-31T19:39:21.281756",
          "exception": false,
          "start_time": "2023-10-31T19:39:21.255520",
          "status": "completed"
        },
        "tags": [],
        "id": "2719e55c"
      },
      "outputs": [],
      "source": [
        "y=train_df['label']"
      ]
    },
    {
      "cell_type": "code",
      "execution_count": null,
      "id": "7d270e21",
      "metadata": {
        "execution": {
          "iopub.execute_input": "2023-10-31T19:39:21.320403Z",
          "iopub.status.busy": "2023-10-31T19:39:21.319986Z",
          "iopub.status.idle": "2023-10-31T19:39:21.326600Z",
          "shell.execute_reply": "2023-10-31T19:39:21.325620Z"
        },
        "papermill": {
          "duration": 0.028596,
          "end_time": "2023-10-31T19:39:21.328670",
          "exception": false,
          "start_time": "2023-10-31T19:39:21.300074",
          "status": "completed"
        },
        "tags": [],
        "colab": {
          "base_uri": "https://localhost:8080/"
        },
        "id": "7d270e21",
        "outputId": "dbe34394-cbc9-4ab0-ed9e-72c204804dea"
      },
      "outputs": [
        {
          "output_type": "execute_result",
          "data": {
            "text/plain": [
              "(18285, 4)"
            ]
          },
          "metadata": {},
          "execution_count": 25
        }
      ],
      "source": [
        "X.shape"
      ]
    },
    {
      "cell_type": "code",
      "execution_count": null,
      "id": "8df6ad92",
      "metadata": {
        "execution": {
          "iopub.execute_input": "2023-10-31T19:39:21.367585Z",
          "iopub.status.busy": "2023-10-31T19:39:21.366495Z",
          "iopub.status.idle": "2023-10-31T19:39:21.372403Z",
          "shell.execute_reply": "2023-10-31T19:39:21.371742Z"
        },
        "papermill": {
          "duration": 0.027067,
          "end_time": "2023-10-31T19:39:21.374420",
          "exception": false,
          "start_time": "2023-10-31T19:39:21.347353",
          "status": "completed"
        },
        "tags": [],
        "colab": {
          "base_uri": "https://localhost:8080/"
        },
        "id": "8df6ad92",
        "outputId": "90500b15-40c4-4998-d045-ee114d8f5e81"
      },
      "outputs": [
        {
          "output_type": "execute_result",
          "data": {
            "text/plain": [
              "(18285,)"
            ]
          },
          "metadata": {},
          "execution_count": 26
        }
      ],
      "source": [
        "y.shape"
      ]
    },
    {
      "cell_type": "code",
      "execution_count": null,
      "id": "32a6b112",
      "metadata": {
        "execution": {
          "iopub.execute_input": "2023-10-31T19:39:21.413195Z",
          "iopub.status.busy": "2023-10-31T19:39:21.412482Z",
          "iopub.status.idle": "2023-10-31T19:39:21.418035Z",
          "shell.execute_reply": "2023-10-31T19:39:21.417299Z"
        },
        "papermill": {
          "duration": 0.027422,
          "end_time": "2023-10-31T19:39:21.420114",
          "exception": false,
          "start_time": "2023-10-31T19:39:21.392692",
          "status": "completed"
        },
        "tags": [],
        "id": "32a6b112"
      },
      "outputs": [],
      "source": [
        "title_txt = X.copy()"
      ]
    },
    {
      "cell_type": "code",
      "execution_count": null,
      "id": "aca608bd",
      "metadata": {
        "execution": {
          "iopub.execute_input": "2023-10-31T19:39:21.457986Z",
          "iopub.status.busy": "2023-10-31T19:39:21.457300Z",
          "iopub.status.idle": "2023-10-31T19:39:21.463336Z",
          "shell.execute_reply": "2023-10-31T19:39:21.462263Z"
        },
        "papermill": {
          "duration": 0.027362,
          "end_time": "2023-10-31T19:39:21.465641",
          "exception": false,
          "start_time": "2023-10-31T19:39:21.438279",
          "status": "completed"
        },
        "tags": [],
        "id": "aca608bd"
      },
      "outputs": [],
      "source": [
        "title_txt.reset_index(inplace=True)"
      ]
    },
    {
      "cell_type": "markdown",
      "source": [
        "Stemming"
      ],
      "metadata": {
        "id": "toXwzQNLjjAg"
      },
      "id": "toXwzQNLjjAg"
    },
    {
      "cell_type": "code",
      "execution_count": null,
      "id": "5ea6826d",
      "metadata": {
        "execution": {
          "iopub.execute_input": "2023-10-31T19:39:21.504260Z",
          "iopub.status.busy": "2023-10-31T19:39:21.503444Z",
          "iopub.status.idle": "2023-10-31T19:39:59.527795Z",
          "shell.execute_reply": "2023-10-31T19:39:59.526806Z"
        },
        "papermill": {
          "duration": 38.046545,
          "end_time": "2023-10-31T19:39:59.530518",
          "exception": false,
          "start_time": "2023-10-31T19:39:21.483973",
          "status": "completed"
        },
        "tags": [],
        "id": "5ea6826d"
      },
      "outputs": [],
      "source": [
        "ps = PorterStemmer()\n",
        "corpus = []\n",
        "for i in range(0, len(title_txt)):\n",
        "    review = re.sub('[^a-zA-Z]', ' ', title_txt['title'][i])\n",
        "    review = review.lower()\n",
        "    review = review.split()\n",
        "\n",
        "    review = [ps.stem(word) for word in review if not word in stopwords.words('english')]\n",
        "    review = ' '.join(review)\n",
        "    corpus.append(review)"
      ]
    },
    {
      "cell_type": "markdown",
      "source": [
        "One-hot Encoding"
      ],
      "metadata": {
        "id": "gj8VzN_Tjm_g"
      },
      "id": "gj8VzN_Tjm_g"
    },
    {
      "cell_type": "code",
      "execution_count": null,
      "id": "475becd1",
      "metadata": {
        "execution": {
          "iopub.execute_input": "2023-10-31T19:39:59.569093Z",
          "iopub.status.busy": "2023-10-31T19:39:59.568688Z",
          "iopub.status.idle": "2023-10-31T19:39:59.879435Z",
          "shell.execute_reply": "2023-10-31T19:39:59.878271Z"
        },
        "papermill": {
          "duration": 0.33316,
          "end_time": "2023-10-31T19:39:59.882208",
          "exception": false,
          "start_time": "2023-10-31T19:39:59.549048",
          "status": "completed"
        },
        "tags": [],
        "id": "475becd1"
      },
      "outputs": [],
      "source": [
        "voc = 10000\n",
        "onehot_repr=[one_hot(words,voc)for words in corpus]"
      ]
    },
    {
      "cell_type": "code",
      "execution_count": null,
      "id": "2923a024",
      "metadata": {
        "execution": {
          "iopub.execute_input": "2023-10-31T19:39:59.921549Z",
          "iopub.status.busy": "2023-10-31T19:39:59.921118Z",
          "iopub.status.idle": "2023-10-31T19:39:59.928311Z",
          "shell.execute_reply": "2023-10-31T19:39:59.927333Z"
        },
        "papermill": {
          "duration": 0.029412,
          "end_time": "2023-10-31T19:39:59.930643",
          "exception": false,
          "start_time": "2023-10-31T19:39:59.901231",
          "status": "completed"
        },
        "tags": [],
        "colab": {
          "base_uri": "https://localhost:8080/"
        },
        "id": "2923a024",
        "outputId": "31c7c912-2c33-4980-83a3-94f59e48735f"
      },
      "outputs": [
        {
          "output_type": "execute_result",
          "data": {
            "text/plain": [
              "[2081, 9234, 7374, 3761, 6380, 3841, 9393, 3447, 8873, 4733]"
            ]
          },
          "metadata": {},
          "execution_count": 31
        }
      ],
      "source": [
        "onehot_repr[0]"
      ]
    },
    {
      "cell_type": "markdown",
      "source": [
        "Padding"
      ],
      "metadata": {
        "id": "nDU63o0_kEAj"
      },
      "id": "nDU63o0_kEAj"
    },
    {
      "cell_type": "code",
      "execution_count": null,
      "id": "7c665087",
      "metadata": {
        "execution": {
          "iopub.execute_input": "2023-10-31T19:39:59.971219Z",
          "iopub.status.busy": "2023-10-31T19:39:59.970304Z",
          "iopub.status.idle": "2023-10-31T19:40:00.063758Z",
          "shell.execute_reply": "2023-10-31T19:40:00.062635Z"
        },
        "papermill": {
          "duration": 0.116302,
          "end_time": "2023-10-31T19:40:00.066096",
          "exception": false,
          "start_time": "2023-10-31T19:39:59.949794",
          "status": "completed"
        },
        "tags": [],
        "colab": {
          "base_uri": "https://localhost:8080/"
        },
        "id": "7c665087",
        "outputId": "223904e1-4f2e-4346-b5a3-7f9e11790803"
      },
      "outputs": [
        {
          "output_type": "stream",
          "name": "stdout",
          "text": [
            "[[   0    0    0 ... 3447 8873 4733]\n",
            " [   0    0    0 ... 7705 9470  645]\n",
            " [   0    0    0 ... 3846 2368 5340]\n",
            " ...\n",
            " [   0    0    0 ... 4167 5172 4895]\n",
            " [   0    0    0 ... 1187 2631 1945]\n",
            " [   0    0    0 ...  675 7144 7370]]\n"
          ]
        }
      ],
      "source": [
        "sent_length=25\n",
        "embedded_docs=pad_sequences(onehot_repr,padding='pre',maxlen=sent_length)\n",
        "print(embedded_docs)"
      ]
    },
    {
      "cell_type": "code",
      "execution_count": null,
      "id": "95013302",
      "metadata": {
        "execution": {
          "iopub.execute_input": "2023-10-31T19:40:00.105796Z",
          "iopub.status.busy": "2023-10-31T19:40:00.105145Z",
          "iopub.status.idle": "2023-10-31T19:40:00.111893Z",
          "shell.execute_reply": "2023-10-31T19:40:00.110962Z"
        },
        "papermill": {
          "duration": 0.029431,
          "end_time": "2023-10-31T19:40:00.113982",
          "exception": false,
          "start_time": "2023-10-31T19:40:00.084551",
          "status": "completed"
        },
        "tags": [],
        "colab": {
          "base_uri": "https://localhost:8080/"
        },
        "id": "95013302",
        "outputId": "f1b10717-5e41-4eac-aa74-eb12bc22e5b5"
      },
      "outputs": [
        {
          "output_type": "execute_result",
          "data": {
            "text/plain": [
              "array([   0,    0,    0,    0,    0,    0,    0,    0,    0,    0,    0,\n",
              "          0,    0,    0,    0, 2081, 9234, 7374, 3761, 6380, 3841, 9393,\n",
              "       3447, 8873, 4733], dtype=int32)"
            ]
          },
          "metadata": {},
          "execution_count": 33
        }
      ],
      "source": [
        "embedded_docs[0]"
      ]
    },
    {
      "cell_type": "code",
      "execution_count": null,
      "id": "2a29c86b",
      "metadata": {
        "execution": {
          "iopub.execute_input": "2023-10-31T19:40:00.153857Z",
          "iopub.status.busy": "2023-10-31T19:40:00.153192Z",
          "iopub.status.idle": "2023-10-31T19:40:00.159793Z",
          "shell.execute_reply": "2023-10-31T19:40:00.158943Z"
        },
        "papermill": {
          "duration": 0.028971,
          "end_time": "2023-10-31T19:40:00.161880",
          "exception": false,
          "start_time": "2023-10-31T19:40:00.132909",
          "status": "completed"
        },
        "tags": [],
        "colab": {
          "base_uri": "https://localhost:8080/"
        },
        "id": "2a29c86b",
        "outputId": "e0273605-2666-4d85-f00c-d55e38b4932c"
      },
      "outputs": [
        {
          "output_type": "execute_result",
          "data": {
            "text/plain": [
              "(18285, 25)"
            ]
          },
          "metadata": {},
          "execution_count": 34
        }
      ],
      "source": [
        "embedded_docs.shape"
      ]
    },
    {
      "cell_type": "markdown",
      "source": [
        "Variable Declaration"
      ],
      "metadata": {
        "id": "GaedJbh4kIbj"
      },
      "id": "GaedJbh4kIbj"
    },
    {
      "cell_type": "code",
      "execution_count": null,
      "id": "80fb709f",
      "metadata": {
        "execution": {
          "iopub.execute_input": "2023-10-31T19:40:00.202966Z",
          "iopub.status.busy": "2023-10-31T19:40:00.202267Z",
          "iopub.status.idle": "2023-10-31T19:40:00.208505Z",
          "shell.execute_reply": "2023-10-31T19:40:00.207633Z"
        },
        "papermill": {
          "duration": 0.029314,
          "end_time": "2023-10-31T19:40:00.210736",
          "exception": false,
          "start_time": "2023-10-31T19:40:00.181422",
          "status": "completed"
        },
        "tags": [],
        "id": "80fb709f"
      },
      "outputs": [],
      "source": [
        "X_final=np.array(embedded_docs)\n",
        "y_final=np.array(y)"
      ]
    },
    {
      "cell_type": "code",
      "execution_count": null,
      "id": "012b92a9",
      "metadata": {
        "execution": {
          "iopub.execute_input": "2023-10-31T19:40:00.252573Z",
          "iopub.status.busy": "2023-10-31T19:40:00.251911Z",
          "iopub.status.idle": "2023-10-31T19:40:00.260413Z",
          "shell.execute_reply": "2023-10-31T19:40:00.259600Z"
        },
        "papermill": {
          "duration": 0.032293,
          "end_time": "2023-10-31T19:40:00.262606",
          "exception": false,
          "start_time": "2023-10-31T19:40:00.230313",
          "status": "completed"
        },
        "tags": [],
        "id": "012b92a9"
      },
      "outputs": [],
      "source": [
        "X_train, X_test, y_train, y_test = train_test_split(X_final, y_final, test_size=0.3, random_state=42)"
      ]
    },
    {
      "cell_type": "code",
      "execution_count": null,
      "id": "42dc6e83",
      "metadata": {
        "execution": {
          "iopub.execute_input": "2023-10-31T19:40:00.302930Z",
          "iopub.status.busy": "2023-10-31T19:40:00.302261Z",
          "iopub.status.idle": "2023-10-31T19:40:00.307993Z",
          "shell.execute_reply": "2023-10-31T19:40:00.306925Z"
        },
        "papermill": {
          "duration": 0.028515,
          "end_time": "2023-10-31T19:40:00.310293",
          "exception": false,
          "start_time": "2023-10-31T19:40:00.281778",
          "status": "completed"
        },
        "tags": [],
        "colab": {
          "base_uri": "https://localhost:8080/"
        },
        "id": "42dc6e83",
        "outputId": "4d962fd9-5b0f-4f8d-cfed-bc58353f7fea"
      },
      "outputs": [
        {
          "output_type": "stream",
          "name": "stdout",
          "text": [
            "(12799, 25)\n",
            "(12799,)\n"
          ]
        }
      ],
      "source": [
        "print(X_train.shape)\n",
        "print(y_train.shape)"
      ]
    },
    {
      "cell_type": "markdown",
      "id": "c6c44513",
      "metadata": {
        "papermill": {
          "duration": 0.018673,
          "end_time": "2023-10-31T19:40:00.396320",
          "exception": false,
          "start_time": "2023-10-31T19:40:00.377647",
          "status": "completed"
        },
        "tags": [],
        "id": "c6c44513"
      },
      "source": [
        "# RNN Model"
      ]
    },
    {
      "cell_type": "code",
      "execution_count": null,
      "id": "9f378e49",
      "metadata": {
        "execution": {
          "iopub.execute_input": "2023-10-31T19:40:00.436186Z",
          "iopub.status.busy": "2023-10-31T19:40:00.435818Z",
          "iopub.status.idle": "2023-10-31T19:40:00.754266Z",
          "shell.execute_reply": "2023-10-31T19:40:00.753180Z"
        },
        "papermill": {
          "duration": 0.34206,
          "end_time": "2023-10-31T19:40:00.757481",
          "exception": false,
          "start_time": "2023-10-31T19:40:00.415421",
          "status": "completed"
        },
        "tags": [],
        "colab": {
          "base_uri": "https://localhost:8080/"
        },
        "id": "9f378e49",
        "outputId": "dc514ec1-79d2-4fdb-e2e1-f67a899b93d1"
      },
      "outputs": [
        {
          "output_type": "stream",
          "name": "stdout",
          "text": [
            "Model: \"sequential\"\n",
            "_________________________________________________________________\n",
            " Layer (type)                Output Shape              Param #   \n",
            "=================================================================\n",
            " embedding (Embedding)       (None, 25, 40)            400000    \n",
            "                                                                 \n",
            " simple_rnn (SimpleRNN)      (None, 100)               14100     \n",
            "                                                                 \n",
            " dense (Dense)               (None, 1)                 101       \n",
            "                                                                 \n",
            "=================================================================\n",
            "Total params: 414201 (1.58 MB)\n",
            "Trainable params: 414201 (1.58 MB)\n",
            "Non-trainable params: 0 (0.00 Byte)\n",
            "_________________________________________________________________\n"
          ]
        }
      ],
      "source": [
        "## Creating 1 st RNN model\n",
        "embedding_vector_features=40\n",
        "rnn = Sequential()\n",
        "rnn.add(Embedding(voc,embedding_vector_features,input_length=sent_length))\n",
        "rnn.add(SimpleRNN(100,return_sequences=False))\n",
        "rnn.add(Dense(1, activation='sigmoid'))\n",
        "\n",
        "rnn.summary()"
      ]
    },
    {
      "cell_type": "code",
      "execution_count": null,
      "id": "6f9b201a",
      "metadata": {
        "execution": {
          "iopub.execute_input": "2023-10-31T19:40:00.800092Z",
          "iopub.status.busy": "2023-10-31T19:40:00.799659Z",
          "iopub.status.idle": "2023-10-31T19:42:23.381314Z",
          "shell.execute_reply": "2023-10-31T19:42:23.378290Z"
        },
        "papermill": {
          "duration": 142.607482,
          "end_time": "2023-10-31T19:42:23.385435",
          "exception": false,
          "start_time": "2023-10-31T19:40:00.777953",
          "status": "completed"
        },
        "tags": [],
        "colab": {
          "base_uri": "https://localhost:8080/"
        },
        "id": "6f9b201a",
        "outputId": "2b7cb839-06e5-4807-e719-e60c698cce78"
      },
      "outputs": [
        {
          "output_type": "stream",
          "name": "stdout",
          "text": [
            "Epoch 1/20\n",
            "400/400 [==============================] - 9s 19ms/step - loss: 0.2626 - accuracy: 0.8867 - val_loss: 0.1873 - val_accuracy: 0.9218\n",
            "Epoch 2/20\n",
            "400/400 [==============================] - 6s 16ms/step - loss: 0.0806 - accuracy: 0.9717 - val_loss: 0.2068 - val_accuracy: 0.9151\n",
            "Epoch 3/20\n",
            "400/400 [==============================] - 7s 18ms/step - loss: 0.0163 - accuracy: 0.9955 - val_loss: 0.2978 - val_accuracy: 0.9050\n",
            "Epoch 4/20\n",
            "400/400 [==============================] - 6s 16ms/step - loss: 0.0034 - accuracy: 0.9993 - val_loss: 0.3447 - val_accuracy: 0.9194\n",
            "Epoch 5/20\n",
            "400/400 [==============================] - 7s 19ms/step - loss: 9.4191e-04 - accuracy: 0.9998 - val_loss: 0.4096 - val_accuracy: 0.9149\n",
            "Epoch 6/20\n",
            "400/400 [==============================] - 7s 19ms/step - loss: 0.0023 - accuracy: 0.9997 - val_loss: 0.4171 - val_accuracy: 0.9171\n",
            "Epoch 7/20\n",
            "400/400 [==============================] - 7s 17ms/step - loss: 1.7030e-04 - accuracy: 1.0000 - val_loss: 0.4395 - val_accuracy: 0.9183\n",
            "Epoch 8/20\n",
            "400/400 [==============================] - 8s 19ms/step - loss: 8.3144e-05 - accuracy: 1.0000 - val_loss: 0.4491 - val_accuracy: 0.9178\n",
            "Epoch 9/20\n",
            "400/400 [==============================] - 6s 16ms/step - loss: 5.3755e-05 - accuracy: 1.0000 - val_loss: 0.4649 - val_accuracy: 0.9178\n",
            "Epoch 10/20\n",
            "400/400 [==============================] - 7s 19ms/step - loss: 3.8003e-05 - accuracy: 1.0000 - val_loss: 0.4791 - val_accuracy: 0.9176\n",
            "Epoch 11/20\n",
            "400/400 [==============================] - 6s 16ms/step - loss: 2.7891e-05 - accuracy: 1.0000 - val_loss: 0.4869 - val_accuracy: 0.9180\n",
            "Epoch 12/20\n",
            "400/400 [==============================] - 7s 19ms/step - loss: 2.0905e-05 - accuracy: 1.0000 - val_loss: 0.5073 - val_accuracy: 0.9176\n",
            "Epoch 13/20\n",
            "400/400 [==============================] - 6s 16ms/step - loss: 1.5994e-05 - accuracy: 1.0000 - val_loss: 0.5181 - val_accuracy: 0.9178\n",
            "Epoch 14/20\n",
            "400/400 [==============================] - 7s 19ms/step - loss: 1.2290e-05 - accuracy: 1.0000 - val_loss: 0.5176 - val_accuracy: 0.9167\n",
            "Epoch 15/20\n",
            "400/400 [==============================] - 6s 15ms/step - loss: 9.6091e-06 - accuracy: 1.0000 - val_loss: 0.5378 - val_accuracy: 0.9180\n",
            "Epoch 16/20\n",
            "400/400 [==============================] - 7s 18ms/step - loss: 7.4886e-06 - accuracy: 1.0000 - val_loss: 0.5492 - val_accuracy: 0.9178\n",
            "Epoch 17/20\n",
            "400/400 [==============================] - 6s 16ms/step - loss: 5.8227e-06 - accuracy: 1.0000 - val_loss: 0.5562 - val_accuracy: 0.9174\n",
            "Epoch 18/20\n",
            "400/400 [==============================] - 8s 19ms/step - loss: 4.5671e-06 - accuracy: 1.0000 - val_loss: 0.5696 - val_accuracy: 0.9176\n",
            "Epoch 19/20\n",
            "400/400 [==============================] - 6s 16ms/step - loss: 3.6033e-06 - accuracy: 1.0000 - val_loss: 0.5728 - val_accuracy: 0.9165\n",
            "Epoch 20/20\n",
            "400/400 [==============================] - 8s 19ms/step - loss: 2.8707e-06 - accuracy: 1.0000 - val_loss: 0.5881 - val_accuracy: 0.9178\n"
          ]
        }
      ],
      "source": [
        "rnn.compile(optimizer='adam', loss='binary_crossentropy', metrics=['accuracy'])\n",
        "rnnModel = rnn.fit(X_train, y_train,epochs=20,batch_size=32,validation_data=(X_test,y_test))"
      ]
    },
    {
      "cell_type": "code",
      "execution_count": null,
      "id": "95ef0cd4",
      "metadata": {
        "execution": {
          "iopub.execute_input": "2023-10-31T19:42:23.938295Z",
          "iopub.status.busy": "2023-10-31T19:42:23.937130Z",
          "iopub.status.idle": "2023-10-31T19:42:24.956236Z",
          "shell.execute_reply": "2023-10-31T19:42:24.954817Z"
        },
        "papermill": {
          "duration": 1.292232,
          "end_time": "2023-10-31T19:42:24.959433",
          "exception": false,
          "start_time": "2023-10-31T19:42:23.667201",
          "status": "completed"
        },
        "tags": [],
        "colab": {
          "base_uri": "https://localhost:8080/",
          "height": 507
        },
        "id": "95ef0cd4",
        "outputId": "99f7ebf6-1383-497e-b8e5-b00205e48211"
      },
      "outputs": [
        {
          "output_type": "display_data",
          "data": {
            "text/plain": [
              "<Figure size 1200x500 with 2 Axes>"
            ],
            "image/png": "[encoded data removed]"
          },
          "metadata": {}
        }
      ],
      "source": [
        "plt.figure(figsize=(12, 5))\n",
        "\n",
        "#  Accuracy\n",
        "plt.subplot(1, 2, 1)\n",
        "plt.plot(rnnModel.history[\"accuracy\"], label=\"Training Accuracy\", c=\"red\")\n",
        "plt.plot(rnnModel.history[\"val_accuracy\"], label=\"Validation Accuracy\", c=\"blue\")\n",
        "plt.title(\"Accuracy\")\n",
        "plt.xlabel(\"Epoch\")\n",
        "plt.ylabel(\"Accuracy\")\n",
        "plt.legend()\n",
        "\n",
        "#  Loss\n",
        "plt.subplot(1, 2, 2)\n",
        "plt.plot(rnnModel.history[\"loss\"], label=\"Training Loss\", c=\"red\")\n",
        "plt.plot(rnnModel.history[\"val_loss\"], label=\"Validation Loss\", c=\"blue\")\n",
        "plt.title(\"Loss\")\n",
        "plt.xlabel(\"Epoch\")\n",
        "plt.ylabel(\"Loss\")\n",
        "plt.legend()\n",
        "\n",
        "\n",
        "plt.tight_layout()\n",
        "plt.show()"
      ]
    },
    {
      "cell_type": "markdown",
      "id": "92afa8f7",
      "metadata": {
        "papermill": {
          "duration": 0.250327,
          "end_time": "2023-10-31T19:42:25.474267",
          "exception": false,
          "start_time": "2023-10-31T19:42:25.223940",
          "status": "completed"
        },
        "tags": [],
        "id": "92afa8f7"
      },
      "source": [
        "## RNN - Evaluation"
      ]
    },
    {
      "cell_type": "code",
      "execution_count": null,
      "id": "4c76f5d9",
      "metadata": {
        "execution": {
          "iopub.execute_input": "2023-10-31T19:42:25.971023Z",
          "iopub.status.busy": "2023-10-31T19:42:25.970484Z",
          "iopub.status.idle": "2023-10-31T19:42:27.553653Z",
          "shell.execute_reply": "2023-10-31T19:42:27.551511Z"
        },
        "papermill": {
          "duration": 1.827326,
          "end_time": "2023-10-31T19:42:27.557526",
          "exception": false,
          "start_time": "2023-10-31T19:42:25.730200",
          "status": "completed"
        },
        "tags": [],
        "colab": {
          "base_uri": "https://localhost:8080/"
        },
        "id": "4c76f5d9",
        "outputId": "f78944d8-d346-4fc5-b4c8-aab1289ca387"
      },
      "outputs": [
        {
          "output_type": "stream",
          "name": "stdout",
          "text": [
            "172/172 [==============================] - 1s 3ms/step\n"
          ]
        }
      ],
      "source": [
        "y_rnn=rnn.predict(X_test)\n",
        "y_rnn = (y_rnn>0.5).astype(int)"
      ]
    },
    {
      "cell_type": "code",
      "execution_count": null,
      "id": "b63403e3",
      "metadata": {
        "execution": {
          "iopub.execute_input": "2023-10-31T19:42:28.083593Z",
          "iopub.status.busy": "2023-10-31T19:42:28.083075Z",
          "iopub.status.idle": "2023-10-31T19:42:28.093827Z",
          "shell.execute_reply": "2023-10-31T19:42:28.092676Z"
        },
        "papermill": {
          "duration": 0.287953,
          "end_time": "2023-10-31T19:42:28.097257",
          "exception": false,
          "start_time": "2023-10-31T19:42:27.809304",
          "status": "completed"
        },
        "tags": [],
        "colab": {
          "base_uri": "https://localhost:8080/"
        },
        "id": "b63403e3",
        "outputId": "f6961d05-c8a3-428a-c2e7-0ca45551da55"
      },
      "outputs": [
        {
          "output_type": "execute_result",
          "data": {
            "text/plain": [
              "0.9177907400656216"
            ]
          },
          "metadata": {},
          "execution_count": 42
        }
      ],
      "source": [
        "accuracy_score(y_test,y_rnn)"
      ]
    },
    {
      "cell_type": "code",
      "execution_count": null,
      "id": "ac827b04",
      "metadata": {
        "execution": {
          "iopub.execute_input": "2023-10-31T19:42:28.633400Z",
          "iopub.status.busy": "2023-10-31T19:42:28.632205Z",
          "iopub.status.idle": "2023-10-31T19:42:28.645717Z",
          "shell.execute_reply": "2023-10-31T19:42:28.644281Z"
        },
        "papermill": {
          "duration": 0.281438,
          "end_time": "2023-10-31T19:42:28.649914",
          "exception": false,
          "start_time": "2023-10-31T19:42:28.368476",
          "status": "completed"
        },
        "tags": [],
        "colab": {
          "base_uri": "https://localhost:8080/"
        },
        "id": "ac827b04",
        "outputId": "b39322d6-cacc-47f7-c7e6-f2e7c412b55a"
      },
      "outputs": [
        {
          "output_type": "execute_result",
          "data": {
            "text/plain": [
              "array([[2814,  293],\n",
              "       [ 158, 2221]])"
            ]
          },
          "metadata": {},
          "execution_count": 43
        }
      ],
      "source": [
        "confusion_matrix(y_test,y_rnn)"
      ]
    },
    {
      "cell_type": "code",
      "execution_count": null,
      "id": "a3782338",
      "metadata": {
        "execution": {
          "iopub.execute_input": "2023-10-31T19:42:29.208656Z",
          "iopub.status.busy": "2023-10-31T19:42:29.207874Z",
          "iopub.status.idle": "2023-10-31T19:42:29.247895Z",
          "shell.execute_reply": "2023-10-31T19:42:29.245720Z"
        },
        "papermill": {
          "duration": 0.336508,
          "end_time": "2023-10-31T19:42:29.251621",
          "exception": false,
          "start_time": "2023-10-31T19:42:28.915113",
          "status": "completed"
        },
        "tags": [],
        "colab": {
          "base_uri": "https://localhost:8080/"
        },
        "id": "a3782338",
        "outputId": "beeeda72-d978-4d29-aab0-dfb54fca7ff5"
      },
      "outputs": [
        {
          "output_type": "stream",
          "name": "stdout",
          "text": [
            "              precision    recall  f1-score   support\n",
            "\n",
            "           0       0.95      0.91      0.93      3107\n",
            "           1       0.88      0.93      0.91      2379\n",
            "\n",
            "    accuracy                           0.92      5486\n",
            "   macro avg       0.92      0.92      0.92      5486\n",
            "weighted avg       0.92      0.92      0.92      5486\n",
            "\n"
          ]
        }
      ],
      "source": [
        "print(classification_report(y_test,y_rnn))"
      ]
    },
    {
      "cell_type": "markdown",
      "id": "36832669",
      "metadata": {
        "papermill": {
          "duration": 0.272757,
          "end_time": "2023-10-31T19:42:29.894221",
          "exception": false,
          "start_time": "2023-10-31T19:42:29.621464",
          "status": "completed"
        },
        "tags": [],
        "id": "36832669"
      },
      "source": [
        "# With LSTM"
      ]
    },
    {
      "cell_type": "code",
      "execution_count": null,
      "id": "c78557c1",
      "metadata": {
        "execution": {
          "iopub.execute_input": "2023-10-31T19:42:30.422676Z",
          "iopub.status.busy": "2023-10-31T19:42:30.421928Z",
          "iopub.status.idle": "2023-10-31T19:42:30.955361Z",
          "shell.execute_reply": "2023-10-31T19:42:30.952226Z"
        },
        "papermill": {
          "duration": 0.79848,
          "end_time": "2023-10-31T19:42:30.958849",
          "exception": false,
          "start_time": "2023-10-31T19:42:30.160369",
          "status": "completed"
        },
        "tags": [],
        "id": "c78557c1"
      },
      "outputs": [],
      "source": [
        "#RNN Model with lstm\n",
        "embedding_vector_features=40\n",
        "lstm=Sequential()\n",
        "lstm.add(Embedding(voc,embedding_vector_features,input_length=sent_length))\n",
        "lstm.add(Dropout(0.2))\n",
        "lstm.add(LSTM(100))\n",
        "lstm.add(Dropout(0.2))\n",
        "lstm.add(Dense(1,activation='sigmoid'))\n"
      ]
    },
    {
      "cell_type": "code",
      "execution_count": null,
      "id": "9f5814a7",
      "metadata": {
        "execution": {
          "iopub.execute_input": "2023-10-31T19:42:31.493281Z",
          "iopub.status.busy": "2023-10-31T19:42:31.492381Z",
          "iopub.status.idle": "2023-10-31T19:42:31.537141Z",
          "shell.execute_reply": "2023-10-31T19:42:31.535197Z"
        },
        "papermill": {
          "duration": 0.316787,
          "end_time": "2023-10-31T19:42:31.540459",
          "exception": false,
          "start_time": "2023-10-31T19:42:31.223672",
          "status": "completed"
        },
        "tags": [],
        "colab": {
          "base_uri": "https://localhost:8080/"
        },
        "id": "9f5814a7",
        "outputId": "17497a4c-068c-4787-c2ec-cfa9bc62073f"
      },
      "outputs": [
        {
          "output_type": "stream",
          "name": "stdout",
          "text": [
            "Model: \"sequential_1\"\n",
            "_________________________________________________________________\n",
            " Layer (type)                Output Shape              Param #   \n",
            "=================================================================\n",
            " embedding_1 (Embedding)     (None, 25, 40)            400000    \n",
            "                                                                 \n",
            " dropout (Dropout)           (None, 25, 40)            0         \n",
            "                                                                 \n",
            " lstm (LSTM)                 (None, 100)               56400     \n",
            "                                                                 \n",
            " dropout_1 (Dropout)         (None, 100)               0         \n",
            "                                                                 \n",
            " dense_1 (Dense)             (None, 1)                 101       \n",
            "                                                                 \n",
            "=================================================================\n",
            "Total params: 456501 (1.74 MB)\n",
            "Trainable params: 456501 (1.74 MB)\n",
            "Non-trainable params: 0 (0.00 Byte)\n",
            "_________________________________________________________________\n"
          ]
        }
      ],
      "source": [
        "lstm.summary()"
      ]
    },
    {
      "cell_type": "code",
      "execution_count": null,
      "id": "f88b3886",
      "metadata": {
        "execution": {
          "iopub.execute_input": "2023-10-31T19:42:32.085310Z",
          "iopub.status.busy": "2023-10-31T19:42:32.084827Z",
          "iopub.status.idle": "2023-10-31T19:46:41.989748Z",
          "shell.execute_reply": "2023-10-31T19:46:41.988745Z"
        },
        "papermill": {
          "duration": 250.184277,
          "end_time": "2023-10-31T19:46:41.992270",
          "exception": false,
          "start_time": "2023-10-31T19:42:31.807993",
          "status": "completed"
        },
        "tags": [],
        "colab": {
          "base_uri": "https://localhost:8080/"
        },
        "id": "f88b3886",
        "outputId": "329ed7a8-7300-4165-9c1a-66e7556bb40c"
      },
      "outputs": [
        {
          "output_type": "stream",
          "name": "stdout",
          "text": [
            "Epoch 1/20\n",
            "400/400 [==============================] - 18s 36ms/step - loss: 0.2745 - accuracy: 0.8761 - val_loss: 0.2009 - val_accuracy: 0.9205\n",
            "Epoch 2/20\n",
            "400/400 [==============================] - 14s 34ms/step - loss: 0.1223 - accuracy: 0.9542 - val_loss: 0.1934 - val_accuracy: 0.9231\n",
            "Epoch 3/20\n",
            "400/400 [==============================] - 14s 34ms/step - loss: 0.0773 - accuracy: 0.9724 - val_loss: 0.2684 - val_accuracy: 0.9216\n",
            "Epoch 4/20\n",
            "400/400 [==============================] - 14s 34ms/step - loss: 0.0439 - accuracy: 0.9860 - val_loss: 0.2596 - val_accuracy: 0.9189\n",
            "Epoch 5/20\n",
            "400/400 [==============================] - 14s 34ms/step - loss: 0.0274 - accuracy: 0.9916 - val_loss: 0.3468 - val_accuracy: 0.9100\n",
            "Epoch 6/20\n",
            "400/400 [==============================] - 14s 34ms/step - loss: 0.0185 - accuracy: 0.9949 - val_loss: 0.3522 - val_accuracy: 0.9165\n",
            "Epoch 7/20\n",
            "400/400 [==============================] - 14s 34ms/step - loss: 0.0122 - accuracy: 0.9965 - val_loss: 0.4170 - val_accuracy: 0.9107\n",
            "Epoch 8/20\n",
            "400/400 [==============================] - 14s 34ms/step - loss: 0.0070 - accuracy: 0.9980 - val_loss: 0.4323 - val_accuracy: 0.9147\n",
            "Epoch 9/20\n",
            "400/400 [==============================] - 14s 34ms/step - loss: 0.0080 - accuracy: 0.9972 - val_loss: 0.4524 - val_accuracy: 0.9172\n",
            "Epoch 10/20\n",
            "400/400 [==============================] - 14s 34ms/step - loss: 0.0066 - accuracy: 0.9981 - val_loss: 0.4384 - val_accuracy: 0.9132\n",
            "Epoch 11/20\n",
            "400/400 [==============================] - 14s 34ms/step - loss: 0.0065 - accuracy: 0.9983 - val_loss: 0.5429 - val_accuracy: 0.9151\n",
            "Epoch 12/20\n",
            "400/400 [==============================] - 14s 34ms/step - loss: 0.0038 - accuracy: 0.9991 - val_loss: 0.5151 - val_accuracy: 0.9151\n",
            "Epoch 13/20\n",
            "400/400 [==============================] - 14s 34ms/step - loss: 0.0033 - accuracy: 0.9992 - val_loss: 0.5614 - val_accuracy: 0.9145\n",
            "Epoch 14/20\n",
            "400/400 [==============================] - 14s 34ms/step - loss: 0.0041 - accuracy: 0.9988 - val_loss: 0.5346 - val_accuracy: 0.9114\n",
            "Epoch 15/20\n",
            "400/400 [==============================] - 14s 35ms/step - loss: 0.0054 - accuracy: 0.9984 - val_loss: 0.5025 - val_accuracy: 0.9145\n",
            "Epoch 16/20\n",
            "400/400 [==============================] - 14s 34ms/step - loss: 0.0029 - accuracy: 0.9991 - val_loss: 0.5834 - val_accuracy: 0.9123\n",
            "Epoch 17/20\n",
            "400/400 [==============================] - 14s 35ms/step - loss: 0.0018 - accuracy: 0.9996 - val_loss: 0.6119 - val_accuracy: 0.9127\n",
            "Epoch 18/20\n",
            "400/400 [==============================] - 15s 37ms/step - loss: 0.0018 - accuracy: 0.9996 - val_loss: 0.5742 - val_accuracy: 0.9121\n",
            "Epoch 19/20\n",
            "400/400 [==============================] - 14s 35ms/step - loss: 0.0033 - accuracy: 0.9988 - val_loss: 0.6017 - val_accuracy: 0.9138\n",
            "Epoch 20/20\n",
            "400/400 [==============================] - 14s 34ms/step - loss: 7.9162e-04 - accuracy: 0.9998 - val_loss: 0.6838 - val_accuracy: 0.9163\n"
          ]
        }
      ],
      "source": [
        "lstm.compile(loss='binary_crossentropy',optimizer='adam',metrics=['accuracy'])\n",
        "rnnModel_lstm = lstm.fit(X_train,y_train,validation_data=(X_test,y_test),epochs=20,batch_size=32)"
      ]
    },
    {
      "cell_type": "code",
      "execution_count": null,
      "id": "a68a6c69",
      "metadata": {
        "execution": {
          "iopub.execute_input": "2023-10-31T19:46:43.241295Z",
          "iopub.status.busy": "2023-10-31T19:46:43.240367Z",
          "iopub.status.idle": "2023-10-31T19:46:44.084849Z",
          "shell.execute_reply": "2023-10-31T19:46:44.083592Z"
        },
        "papermill": {
          "duration": 1.500082,
          "end_time": "2023-10-31T19:46:44.088025",
          "exception": false,
          "start_time": "2023-10-31T19:46:42.587943",
          "status": "completed"
        },
        "tags": [],
        "colab": {
          "base_uri": "https://localhost:8080/",
          "height": 54
        },
        "id": "a68a6c69",
        "outputId": "92b04b50-b0d5-4aed-e661-c76682d83bba"
      },
      "outputs": [
        {
          "output_type": "display_data",
          "data": {
            "text/plain": [
              "<Figure size 1200x500 with 2 Axes>"
            ],
            "image/png": "[encoded data removed]"
          },
          "metadata": {}
        }
      ],
      "source": [
        "plt.figure(figsize=(12, 5))\n",
        "\n",
        "#  Accuracy\n",
        "plt.subplot(1, 2, 1)\n",
        "plt.plot(rnnModel_lstm.history[\"accuracy\"], label=\"Training Accuracy\", c=\"red\")\n",
        "plt.plot(rnnModel_lstm.history[\"val_accuracy\"], label=\"Validation Accuracy\", c=\"blue\")\n",
        "plt.title(\"Accuracy\")\n",
        "plt.xlabel(\"Epoch\")\n",
        "plt.ylabel(\"Accuracy\")\n",
        "plt.legend()\n",
        "\n",
        "#  Loss\n",
        "plt.subplot(1, 2, 2)\n",
        "plt.plot(rnnModel_lstm.history[\"loss\"], label=\"Training Loss\", c=\"red\")\n",
        "plt.plot(rnnModel_lstm.history[\"val_loss\"], label=\"Validation Loss\", c=\"blue\")\n",
        "plt.title(\"Loss\")\n",
        "plt.xlabel(\"Epoch\")\n",
        "plt.ylabel(\"Loss\")\n",
        "plt.legend()\n",
        "\n",
        "\n",
        "plt.tight_layout()\n",
        "plt.show()"
      ]
    },
    {
      "cell_type": "markdown",
      "id": "faa1003e",
      "metadata": {
        "papermill": {
          "duration": 0.597508,
          "end_time": "2023-10-31T19:46:45.294957",
          "exception": false,
          "start_time": "2023-10-31T19:46:44.697449",
          "status": "completed"
        },
        "tags": [],
        "id": "faa1003e"
      },
      "source": [
        "## LSTM -Evaluation"
      ]
    },
    {
      "cell_type": "code",
      "execution_count": null,
      "id": "ffd83837",
      "metadata": {
        "execution": {
          "iopub.execute_input": "2023-10-31T19:46:46.467523Z",
          "iopub.status.busy": "2023-10-31T19:46:46.467079Z",
          "iopub.status.idle": "2023-10-31T19:46:48.403023Z",
          "shell.execute_reply": "2023-10-31T19:46:48.401582Z"
        },
        "papermill": {
          "duration": 2.524329,
          "end_time": "2023-10-31T19:46:48.405927",
          "exception": false,
          "start_time": "2023-10-31T19:46:45.881598",
          "status": "completed"
        },
        "tags": [],
        "colab": {
          "base_uri": "https://localhost:8080/"
        },
        "id": "ffd83837",
        "outputId": "3cd577b4-73b4-434d-dd1b-d900545a7251"
      },
      "outputs": [
        {
          "output_type": "stream",
          "name": "stdout",
          "text": [
            "172/172 [==============================] - 2s 8ms/step\n"
          ]
        }
      ],
      "source": [
        "lstm_rnn=lstm.predict(X_test)\n",
        "lstm_rnn = (lstm_rnn>0.5).astype(int)"
      ]
    },
    {
      "cell_type": "code",
      "execution_count": null,
      "id": "8134f4f7",
      "metadata": {
        "execution": {
          "iopub.execute_input": "2023-10-31T19:46:49.667384Z",
          "iopub.status.busy": "2023-10-31T19:46:49.666981Z",
          "iopub.status.idle": "2023-10-31T19:46:49.676887Z",
          "shell.execute_reply": "2023-10-31T19:46:49.675405Z"
        },
        "papermill": {
          "duration": 0.683657,
          "end_time": "2023-10-31T19:46:49.679434",
          "exception": false,
          "start_time": "2023-10-31T19:46:48.995777",
          "status": "completed"
        },
        "tags": [],
        "colab": {
          "base_uri": "https://localhost:8080/"
        },
        "id": "8134f4f7",
        "outputId": "9c9b7fcc-b93f-4c39-c7db-5bb2a6e4d7e6"
      },
      "outputs": [
        {
          "output_type": "execute_result",
          "data": {
            "text/plain": [
              "0.9163324826831936"
            ]
          },
          "metadata": {},
          "execution_count": 50
        }
      ],
      "source": [
        "accuracy_score(y_test,lstm_rnn)"
      ]
    },
    {
      "cell_type": "code",
      "execution_count": null,
      "id": "c59f57cf",
      "metadata": {
        "execution": {
          "iopub.execute_input": "2023-10-31T19:46:50.832254Z",
          "iopub.status.busy": "2023-10-31T19:46:50.831857Z",
          "iopub.status.idle": "2023-10-31T19:46:50.842087Z",
          "shell.execute_reply": "2023-10-31T19:46:50.840898Z"
        },
        "papermill": {
          "duration": 0.587265,
          "end_time": "2023-10-31T19:46:50.844559",
          "exception": false,
          "start_time": "2023-10-31T19:46:50.257294",
          "status": "completed"
        },
        "tags": [],
        "colab": {
          "base_uri": "https://localhost:8080/"
        },
        "id": "c59f57cf",
        "outputId": "e4ae4deb-e6dd-49d4-a339-0b8b96499f64"
      },
      "outputs": [
        {
          "output_type": "execute_result",
          "data": {
            "text/plain": [
              "array([[2792,  315],\n",
              "       [ 144, 2235]])"
            ]
          },
          "metadata": {},
          "execution_count": 51
        }
      ],
      "source": [
        "confusion_matrix(y_test,lstm_rnn)"
      ]
    },
    {
      "cell_type": "markdown",
      "id": "4785b202",
      "metadata": {
        "papermill": {
          "duration": 0.640789,
          "end_time": "2023-10-31T19:46:52.060184",
          "exception": false,
          "start_time": "2023-10-31T19:46:51.419395",
          "status": "completed"
        },
        "tags": [],
        "id": "4785b202"
      },
      "source": [
        "# With Bidirectional LSTM"
      ]
    },
    {
      "cell_type": "code",
      "execution_count": null,
      "id": "4cc1e5bf",
      "metadata": {
        "execution": {
          "iopub.execute_input": "2023-10-31T19:46:53.270327Z",
          "iopub.status.busy": "2023-10-31T19:46:53.269915Z",
          "iopub.status.idle": "2023-10-31T19:46:53.992681Z",
          "shell.execute_reply": "2023-10-31T19:46:53.991435Z"
        },
        "papermill": {
          "duration": 1.333647,
          "end_time": "2023-10-31T19:46:53.995543",
          "exception": false,
          "start_time": "2023-10-31T19:46:52.661896",
          "status": "completed"
        },
        "tags": [],
        "id": "4cc1e5bf"
      },
      "outputs": [],
      "source": [
        "#RNN Model with bidirectional lstm\n",
        "embedding_vector_features=40\n",
        "bi_lstm=Sequential()\n",
        "bi_lstm.add(Embedding(voc,embedding_vector_features,input_length=sent_length))\n",
        "bi_lstm.add(Dropout(0.3))\n",
        "bi_lstm.add(Bidirectional(LSTM(100)))\n",
        "bi_lstm.add(Dropout(0.3))\n",
        "bi_lstm.add(Dense(1,activation='sigmoid'))\n"
      ]
    },
    {
      "cell_type": "code",
      "execution_count": null,
      "id": "a1a5a81b",
      "metadata": {
        "execution": {
          "iopub.execute_input": "2023-10-31T19:46:55.237915Z",
          "iopub.status.busy": "2023-10-31T19:46:55.237473Z",
          "iopub.status.idle": "2023-10-31T19:46:55.265789Z",
          "shell.execute_reply": "2023-10-31T19:46:55.264505Z"
        },
        "papermill": {
          "duration": 0.678891,
          "end_time": "2023-10-31T19:46:55.273234",
          "exception": false,
          "start_time": "2023-10-31T19:46:54.594343",
          "status": "completed"
        },
        "tags": [],
        "colab": {
          "base_uri": "https://localhost:8080/"
        },
        "id": "a1a5a81b",
        "outputId": "4cd35609-99f6-463d-c0b1-a541231ef02e"
      },
      "outputs": [
        {
          "output_type": "stream",
          "name": "stdout",
          "text": [
            "Model: \"sequential_2\"\n",
            "_________________________________________________________________\n",
            " Layer (type)                Output Shape              Param #   \n",
            "=================================================================\n",
            " embedding_2 (Embedding)     (None, 25, 40)            400000    \n",
            "                                                                 \n",
            " dropout_2 (Dropout)         (None, 25, 40)            0         \n",
            "                                                                 \n",
            " bidirectional (Bidirection  (None, 200)               112800    \n",
            " al)                                                             \n",
            "                                                                 \n",
            " dropout_3 (Dropout)         (None, 200)               0         \n",
            "                                                                 \n",
            " dense_2 (Dense)             (None, 1)                 201       \n",
            "                                                                 \n",
            "=================================================================\n",
            "Total params: 513001 (1.96 MB)\n",
            "Trainable params: 513001 (1.96 MB)\n",
            "Non-trainable params: 0 (0.00 Byte)\n",
            "_________________________________________________________________\n"
          ]
        }
      ],
      "source": [
        "bi_lstm.summary()"
      ]
    },
    {
      "cell_type": "code",
      "execution_count": null,
      "id": "2c63b15f",
      "metadata": {
        "execution": {
          "iopub.execute_input": "2023-10-31T19:46:56.429037Z",
          "iopub.status.busy": "2023-10-31T19:46:56.428323Z",
          "iopub.status.idle": "2023-10-31T19:51:18.423672Z",
          "shell.execute_reply": "2023-10-31T19:51:18.422363Z"
        },
        "papermill": {
          "duration": 262.57881,
          "end_time": "2023-10-31T19:51:18.426659",
          "exception": false,
          "start_time": "2023-10-31T19:46:55.847849",
          "status": "completed"
        },
        "tags": [],
        "colab": {
          "base_uri": "https://localhost:8080/"
        },
        "id": "2c63b15f",
        "outputId": "4fa68a92-0e7f-4941-9c54-d1a082e78209"
      },
      "outputs": [
        {
          "output_type": "stream",
          "name": "stdout",
          "text": [
            "Epoch 1/20\n",
            "400/400 [==============================] - 27s 56ms/step - loss: 0.2777 - accuracy: 0.8752 - val_loss: 0.1907 - val_accuracy: 0.9254\n",
            "Epoch 2/20\n",
            "400/400 [==============================] - 21s 52ms/step - loss: 0.1287 - accuracy: 0.9503 - val_loss: 0.1922 - val_accuracy: 0.9265\n",
            "Epoch 3/20\n",
            "400/400 [==============================] - 20s 49ms/step - loss: 0.0851 - accuracy: 0.9697 - val_loss: 0.2158 - val_accuracy: 0.9233\n",
            "Epoch 4/20\n",
            "400/400 [==============================] - 22s 54ms/step - loss: 0.0569 - accuracy: 0.9798 - val_loss: 0.2441 - val_accuracy: 0.9189\n",
            "Epoch 5/20\n",
            "400/400 [==============================] - 20s 49ms/step - loss: 0.0393 - accuracy: 0.9868 - val_loss: 0.3356 - val_accuracy: 0.9167\n",
            "Epoch 6/20\n",
            "400/400 [==============================] - 22s 54ms/step - loss: 0.0311 - accuracy: 0.9890 - val_loss: 0.3784 - val_accuracy: 0.9152\n",
            "Epoch 7/20\n",
            "400/400 [==============================] - 20s 51ms/step - loss: 0.0235 - accuracy: 0.9927 - val_loss: 0.3676 - val_accuracy: 0.9176\n",
            "Epoch 8/20\n",
            "400/400 [==============================] - 20s 50ms/step - loss: 0.0198 - accuracy: 0.9940 - val_loss: 0.3752 - val_accuracy: 0.9120\n",
            "Epoch 9/20\n",
            "400/400 [==============================] - 21s 52ms/step - loss: 0.0147 - accuracy: 0.9951 - val_loss: 0.4809 - val_accuracy: 0.9101\n",
            "Epoch 10/20\n",
            "400/400 [==============================] - 21s 51ms/step - loss: 0.0130 - accuracy: 0.9962 - val_loss: 0.4470 - val_accuracy: 0.9134\n",
            "Epoch 11/20\n",
            "400/400 [==============================] - 21s 53ms/step - loss: 0.0095 - accuracy: 0.9969 - val_loss: 0.4528 - val_accuracy: 0.9083\n",
            "Epoch 12/20\n",
            "400/400 [==============================] - 21s 52ms/step - loss: 0.0075 - accuracy: 0.9979 - val_loss: 0.4816 - val_accuracy: 0.9136\n",
            "Epoch 13/20\n",
            "400/400 [==============================] - 21s 52ms/step - loss: 0.0070 - accuracy: 0.9981 - val_loss: 0.4675 - val_accuracy: 0.9140\n",
            "Epoch 14/20\n",
            "400/400 [==============================] - 23s 58ms/step - loss: 0.0072 - accuracy: 0.9979 - val_loss: 0.5714 - val_accuracy: 0.9136\n",
            "Epoch 15/20\n",
            "400/400 [==============================] - 20s 50ms/step - loss: 0.0040 - accuracy: 0.9985 - val_loss: 0.6402 - val_accuracy: 0.9127\n",
            "Epoch 16/20\n",
            "400/400 [==============================] - 21s 52ms/step - loss: 0.0063 - accuracy: 0.9977 - val_loss: 0.4823 - val_accuracy: 0.9127\n",
            "Epoch 17/20\n",
            "400/400 [==============================] - 20s 51ms/step - loss: 0.0106 - accuracy: 0.9967 - val_loss: 0.4167 - val_accuracy: 0.9127\n",
            "Epoch 18/20\n",
            "400/400 [==============================] - 20s 50ms/step - loss: 0.0082 - accuracy: 0.9970 - val_loss: 0.4678 - val_accuracy: 0.9121\n",
            "Epoch 19/20\n",
            "400/400 [==============================] - 23s 58ms/step - loss: 0.0043 - accuracy: 0.9986 - val_loss: 0.5784 - val_accuracy: 0.9143\n",
            "Epoch 20/20\n",
            "400/400 [==============================] - 19s 48ms/step - loss: 0.0047 - accuracy: 0.9986 - val_loss: 0.5169 - val_accuracy: 0.9147\n"
          ]
        }
      ],
      "source": [
        "bi_lstm.compile(loss='binary_crossentropy',optimizer='adam',metrics=['accuracy'])\n",
        "history_bilstm = bi_lstm.fit(X_train,y_train,validation_data=(X_test,y_test),epochs=20,batch_size=32)"
      ]
    },
    {
      "cell_type": "code",
      "execution_count": null,
      "id": "7b45038c",
      "metadata": {
        "execution": {
          "iopub.execute_input": "2023-10-31T19:51:20.255513Z",
          "iopub.status.busy": "2023-10-31T19:51:20.254565Z",
          "iopub.status.idle": "2023-10-31T19:51:20.947520Z",
          "shell.execute_reply": "2023-10-31T19:51:20.946753Z"
        },
        "papermill": {
          "duration": 1.595402,
          "end_time": "2023-10-31T19:51:20.949581",
          "exception": false,
          "start_time": "2023-10-31T19:51:19.354179",
          "status": "completed"
        },
        "tags": [],
        "colab": {
          "base_uri": "https://localhost:8080/",
          "height": 507
        },
        "id": "7b45038c",
        "outputId": "67ac16c7-9cea-467a-ce1a-05914152643e"
      },
      "outputs": [
        {
          "output_type": "display_data",
          "data": {
            "text/plain": [
              "<Figure size 1200x500 with 2 Axes>"
            ],
            "image/png": "[encoded data removed]"
          },
          "metadata": {}
        }
      ],
      "source": [
        "plt.figure(figsize=(12, 5))\n",
        "\n",
        "#  Accuracy\n",
        "plt.subplot(1, 2, 1)\n",
        "plt.plot(history_bilstm.history[\"accuracy\"], label=\"Training Accuracy\", c=\"red\")\n",
        "plt.plot(history_bilstm.history[\"val_accuracy\"], label=\"Validation Accuracy\", c=\"blue\")\n",
        "plt.title(\"Accuracy\")\n",
        "plt.xlabel(\"Epoch\")\n",
        "plt.ylabel(\"Accuracy\")\n",
        "plt.legend()\n",
        "\n",
        "#  Loss\n",
        "plt.subplot(1, 2, 2)\n",
        "plt.plot(history_bilstm.history[\"loss\"], label=\"Training Loss\", c=\"red\")\n",
        "plt.plot(history_bilstm.history[\"val_loss\"], label=\"Validation Loss\", c=\"blue\")\n",
        "plt.title(\"Loss\")\n",
        "plt.xlabel(\"Epoch\")\n",
        "plt.ylabel(\"Loss\")\n",
        "plt.legend()\n",
        "\n",
        "\n",
        "plt.tight_layout()\n",
        "plt.show()"
      ]
    },
    {
      "cell_type": "markdown",
      "id": "cb2e75b1",
      "metadata": {
        "papermill": {
          "duration": 0.912097,
          "end_time": "2023-10-31T19:51:22.693604",
          "exception": false,
          "start_time": "2023-10-31T19:51:21.781507",
          "status": "completed"
        },
        "tags": [],
        "id": "cb2e75b1"
      },
      "source": [
        "## Bidirectional LSTM -Evaluation"
      ]
    },
    {
      "cell_type": "code",
      "execution_count": null,
      "id": "269bbfe4",
      "metadata": {
        "execution": {
          "iopub.execute_input": "2023-10-31T19:51:24.354302Z",
          "iopub.status.busy": "2023-10-31T19:51:24.353292Z",
          "iopub.status.idle": "2023-10-31T19:51:26.524160Z",
          "shell.execute_reply": "2023-10-31T19:51:26.523252Z"
        },
        "papermill": {
          "duration": 3.008597,
          "end_time": "2023-10-31T19:51:26.526787",
          "exception": false,
          "start_time": "2023-10-31T19:51:23.518190",
          "status": "completed"
        },
        "tags": [],
        "colab": {
          "base_uri": "https://localhost:8080/"
        },
        "id": "269bbfe4",
        "outputId": "729b7667-9767-4c56-96d3-66269a6fc465"
      },
      "outputs": [
        {
          "output_type": "stream",
          "name": "stdout",
          "text": [
            "172/172 [==============================] - 4s 18ms/step\n"
          ]
        }
      ],
      "source": [
        "bilstm_rnn=bi_lstm.predict(X_test)\n",
        "bilstm_rnn = (bilstm_rnn>0.5).astype(int)"
      ]
    },
    {
      "cell_type": "code",
      "source": [
        "accuracy_score(y_test,bilstm_rnn)"
      ],
      "metadata": {
        "colab": {
          "base_uri": "https://localhost:8080/"
        },
        "id": "g_DjtrjCo2T8",
        "outputId": "2e1e11e5-418a-4a0c-9ab9-c28e7b64f05a"
      },
      "id": "g_DjtrjCo2T8",
      "execution_count": null,
      "outputs": [
        {
          "output_type": "execute_result",
          "data": {
            "text/plain": [
              "0.9146919431279621"
            ]
          },
          "metadata": {},
          "execution_count": 57
        }
      ]
    },
    {
      "cell_type": "code",
      "source": [
        "confusion_matrix(y_test,bilstm_rnn)"
      ],
      "metadata": {
        "colab": {
          "base_uri": "https://localhost:8080/"
        },
        "id": "XVnD6khno-up",
        "outputId": "029251ef-4610-47da-bcd4-c9abdb048bbc"
      },
      "id": "XVnD6khno-up",
      "execution_count": null,
      "outputs": [
        {
          "output_type": "execute_result",
          "data": {
            "text/plain": [
              "array([[2856,  251],\n",
              "       [ 217, 2162]])"
            ]
          },
          "metadata": {},
          "execution_count": 58
        }
      ]
    },
    {
      "cell_type": "markdown",
      "id": "57f7ad39",
      "metadata": {
        "papermill": {
          "duration": 0.83237,
          "end_time": "2023-10-31T19:51:28.262768",
          "exception": false,
          "start_time": "2023-10-31T19:51:27.430398",
          "status": "completed"
        },
        "tags": [],
        "id": "57f7ad39"
      },
      "source": [
        "# GRU (Gated Recurrent Unit)"
      ]
    },
    {
      "cell_type": "code",
      "execution_count": null,
      "id": "0bb58427",
      "metadata": {
        "execution": {
          "iopub.execute_input": "2023-10-31T19:51:30.012234Z",
          "iopub.status.busy": "2023-10-31T19:51:30.011834Z",
          "iopub.status.idle": "2023-10-31T19:51:30.559069Z",
          "shell.execute_reply": "2023-10-31T19:51:30.558165Z"
        },
        "papermill": {
          "duration": 1.46168,
          "end_time": "2023-10-31T19:51:30.561759",
          "exception": false,
          "start_time": "2023-10-31T19:51:29.100079",
          "status": "completed"
        },
        "tags": [],
        "id": "0bb58427"
      },
      "outputs": [],
      "source": [
        "#RNN Model with GRU\n",
        "embedding_vector_features=40\n",
        "gru=Sequential()\n",
        "gru.add(Embedding(voc,embedding_vector_features,input_length=sent_length))\n",
        "gru.add(Dropout(0.3))\n",
        "gru.add(Bidirectional(GRU(100)))\n",
        "gru.add(Dropout(0.3))\n",
        "gru.add(Dense(1,activation='sigmoid'))"
      ]
    },
    {
      "cell_type": "code",
      "execution_count": null,
      "id": "ccfd1566",
      "metadata": {
        "execution": {
          "iopub.execute_input": "2023-10-31T19:51:32.278732Z",
          "iopub.status.busy": "2023-10-31T19:51:32.278090Z",
          "iopub.status.idle": "2023-10-31T19:51:32.305228Z",
          "shell.execute_reply": "2023-10-31T19:51:32.303924Z"
        },
        "papermill": {
          "duration": 0.902523,
          "end_time": "2023-10-31T19:51:32.310083",
          "exception": false,
          "start_time": "2023-10-31T19:51:31.407560",
          "status": "completed"
        },
        "tags": [],
        "colab": {
          "base_uri": "https://localhost:8080/"
        },
        "id": "ccfd1566",
        "outputId": "b82ec4a7-1d82-48bb-fd2d-af7beb464d92"
      },
      "outputs": [
        {
          "output_type": "stream",
          "name": "stdout",
          "text": [
            "Model: \"sequential_3\"\n",
            "_________________________________________________________________\n",
            " Layer (type)                Output Shape              Param #   \n",
            "=================================================================\n",
            " embedding_3 (Embedding)     (None, 25, 40)            400000    \n",
            "                                                                 \n",
            " dropout_4 (Dropout)         (None, 25, 40)            0         \n",
            "                                                                 \n",
            " bidirectional_1 (Bidirecti  (None, 200)               85200     \n",
            " onal)                                                           \n",
            "                                                                 \n",
            " dropout_5 (Dropout)         (None, 200)               0         \n",
            "                                                                 \n",
            " dense_3 (Dense)             (None, 1)                 201       \n",
            "                                                                 \n",
            "=================================================================\n",
            "Total params: 485401 (1.85 MB)\n",
            "Trainable params: 485401 (1.85 MB)\n",
            "Non-trainable params: 0 (0.00 Byte)\n",
            "_________________________________________________________________\n"
          ]
        }
      ],
      "source": [
        "gru.summary()"
      ]
    },
    {
      "cell_type": "code",
      "execution_count": null,
      "id": "bbe983e4",
      "metadata": {
        "execution": {
          "iopub.execute_input": "2023-10-31T19:51:34.054106Z",
          "iopub.status.busy": "2023-10-31T19:51:34.053751Z",
          "iopub.status.idle": "2023-10-31T19:55:30.964879Z",
          "shell.execute_reply": "2023-10-31T19:55:30.963724Z"
        },
        "papermill": {
          "duration": 237.753264,
          "end_time": "2023-10-31T19:55:30.967502",
          "exception": false,
          "start_time": "2023-10-31T19:51:33.214238",
          "status": "completed"
        },
        "tags": [],
        "colab": {
          "base_uri": "https://localhost:8080/"
        },
        "id": "bbe983e4",
        "outputId": "e279ff88-9eca-416a-bc2f-f57e61feb40b"
      },
      "outputs": [
        {
          "output_type": "stream",
          "name": "stdout",
          "text": [
            "Epoch 1/20\n",
            "400/400 [==============================] - 27s 56ms/step - loss: 0.2606 - accuracy: 0.8764 - val_loss: 0.1901 - val_accuracy: 0.9180\n",
            "Epoch 2/20\n",
            "400/400 [==============================] - 20s 50ms/step - loss: 0.1200 - accuracy: 0.9530 - val_loss: 0.1954 - val_accuracy: 0.9240\n",
            "Epoch 3/20\n",
            "400/400 [==============================] - 21s 52ms/step - loss: 0.0688 - accuracy: 0.9753 - val_loss: 0.2236 - val_accuracy: 0.9163\n",
            "Epoch 4/20\n",
            "400/400 [==============================] - 20s 50ms/step - loss: 0.0361 - accuracy: 0.9884 - val_loss: 0.3081 - val_accuracy: 0.9189\n",
            "Epoch 5/20\n",
            "400/400 [==============================] - 19s 48ms/step - loss: 0.0250 - accuracy: 0.9923 - val_loss: 0.2991 - val_accuracy: 0.9169\n",
            "Epoch 6/20\n",
            "400/400 [==============================] - 23s 57ms/step - loss: 0.0172 - accuracy: 0.9945 - val_loss: 0.4105 - val_accuracy: 0.9098\n",
            "Epoch 7/20\n",
            "400/400 [==============================] - 19s 48ms/step - loss: 0.0098 - accuracy: 0.9968 - val_loss: 0.4050 - val_accuracy: 0.9069\n",
            "Epoch 8/20\n",
            "400/400 [==============================] - 20s 51ms/step - loss: 0.0080 - accuracy: 0.9975 - val_loss: 0.4765 - val_accuracy: 0.9160\n",
            "Epoch 9/20\n",
            "400/400 [==============================] - 20s 50ms/step - loss: 0.0108 - accuracy: 0.9970 - val_loss: 0.4420 - val_accuracy: 0.9138\n",
            "Epoch 10/20\n",
            "400/400 [==============================] - 20s 51ms/step - loss: 0.0052 - accuracy: 0.9985 - val_loss: 0.4838 - val_accuracy: 0.9152\n",
            "Epoch 11/20\n",
            "400/400 [==============================] - 19s 47ms/step - loss: 0.0048 - accuracy: 0.9984 - val_loss: 0.4913 - val_accuracy: 0.9162\n",
            "Epoch 12/20\n",
            "400/400 [==============================] - 20s 50ms/step - loss: 0.0069 - accuracy: 0.9977 - val_loss: 0.5178 - val_accuracy: 0.9187\n",
            "Epoch 13/20\n",
            "400/400 [==============================] - 19s 47ms/step - loss: 0.0046 - accuracy: 0.9987 - val_loss: 0.5499 - val_accuracy: 0.9187\n",
            "Epoch 14/20\n",
            "400/400 [==============================] - 21s 53ms/step - loss: 0.0030 - accuracy: 0.9991 - val_loss: 0.5850 - val_accuracy: 0.9172\n",
            "Epoch 15/20\n",
            "400/400 [==============================] - 19s 47ms/step - loss: 0.0021 - accuracy: 0.9993 - val_loss: 0.7134 - val_accuracy: 0.9183\n",
            "Epoch 16/20\n",
            "400/400 [==============================] - 20s 51ms/step - loss: 0.0029 - accuracy: 0.9991 - val_loss: 0.5903 - val_accuracy: 0.9160\n",
            "Epoch 17/20\n",
            "400/400 [==============================] - 20s 50ms/step - loss: 0.0031 - accuracy: 0.9992 - val_loss: 0.5849 - val_accuracy: 0.9163\n",
            "Epoch 18/20\n",
            "400/400 [==============================] - 20s 51ms/step - loss: 0.0042 - accuracy: 0.9984 - val_loss: 0.5789 - val_accuracy: 0.9134\n",
            "Epoch 19/20\n",
            "400/400 [==============================] - 19s 47ms/step - loss: 0.0040 - accuracy: 0.9986 - val_loss: 0.6345 - val_accuracy: 0.9134\n",
            "Epoch 20/20\n",
            "400/400 [==============================] - 20s 50ms/step - loss: 0.0023 - accuracy: 0.9991 - val_loss: 0.6580 - val_accuracy: 0.9087\n"
          ]
        }
      ],
      "source": [
        "gru.compile(loss='binary_crossentropy',optimizer='adam',metrics=['accuracy'])\n",
        "history_gru = gru.fit(X_train,y_train,validation_data=(X_test,y_test),epochs=20,batch_size=32)"
      ]
    },
    {
      "cell_type": "code",
      "execution_count": null,
      "id": "4fc7b0ae",
      "metadata": {
        "execution": {
          "iopub.execute_input": "2023-10-31T19:55:33.377657Z",
          "iopub.status.busy": "2023-10-31T19:55:33.376859Z",
          "iopub.status.idle": "2023-10-31T19:55:34.083586Z",
          "shell.execute_reply": "2023-10-31T19:55:34.082467Z"
        },
        "papermill": {
          "duration": 1.930882,
          "end_time": "2023-10-31T19:55:34.086196",
          "exception": false,
          "start_time": "2023-10-31T19:55:32.155314",
          "status": "completed"
        },
        "tags": [],
        "colab": {
          "base_uri": "https://localhost:8080/",
          "height": 507
        },
        "id": "4fc7b0ae",
        "outputId": "11351787-902a-4a73-bdb8-f01858af1b1c"
      },
      "outputs": [
        {
          "output_type": "display_data",
          "data": {
            "text/plain": [
              "<Figure size 1200x500 with 2 Axes>"
            ],
            "image/png": "[encoded data removed]"
          },
          "metadata": {}
        }
      ],
      "source": [
        "plt.figure(figsize=(12, 5))\n",
        "\n",
        "#  Accuracy\n",
        "plt.subplot(1, 2, 1)\n",
        "plt.plot(history_gru.history[\"accuracy\"], label=\"Training Accuracy\", c=\"red\")\n",
        "plt.plot(history_gru.history[\"val_accuracy\"], label=\"Validation Accuracy\", c=\"blue\")\n",
        "plt.title(\"Accuracy\")\n",
        "plt.xlabel(\"Epoch\")\n",
        "plt.ylabel(\"Accuracy\")\n",
        "plt.legend()\n",
        "\n",
        "#  Loss\n",
        "plt.subplot(1, 2, 2)\n",
        "plt.plot(history_gru.history[\"loss\"], label=\"Training Loss\", c=\"red\")\n",
        "plt.plot(history_gru.history[\"val_loss\"], label=\"Validation Loss\", c=\"blue\")\n",
        "plt.title(\"Loss\")\n",
        "plt.xlabel(\"Epoch\")\n",
        "plt.ylabel(\"Loss\")\n",
        "plt.legend()\n",
        "\n",
        "\n",
        "plt.tight_layout()\n",
        "plt.show()"
      ]
    },
    {
      "cell_type": "code",
      "source": [
        "gru_rnn=gru.predict(X_test)\n",
        "gru_rnn = (gru_rnn>0.5).astype(int)"
      ],
      "metadata": {
        "colab": {
          "base_uri": "https://localhost:8080/"
        },
        "id": "aZrEUj7tpEve",
        "outputId": "0e03e0f7-65ed-4e3f-9d79-791ce3edabe4"
      },
      "id": "aZrEUj7tpEve",
      "execution_count": null,
      "outputs": [
        {
          "output_type": "stream",
          "name": "stdout",
          "text": [
            "172/172 [==============================] - 2s 10ms/step\n"
          ]
        }
      ]
    },
    {
      "cell_type": "code",
      "source": [
        "accuracy_score(y_test,gru_rnn)"
      ],
      "metadata": {
        "colab": {
          "base_uri": "https://localhost:8080/"
        },
        "id": "cu9wtRZKpEjQ",
        "outputId": "b50114eb-d662-40cf-d083-f043c948d0a1"
      },
      "id": "cu9wtRZKpEjQ",
      "execution_count": null,
      "outputs": [
        {
          "output_type": "execute_result",
          "data": {
            "text/plain": [
              "0.9086766314254466"
            ]
          },
          "metadata": {},
          "execution_count": 64
        }
      ]
    },
    {
      "cell_type": "code",
      "source": [
        "confusion_matrix(y_test,gru_rnn)"
      ],
      "metadata": {
        "colab": {
          "base_uri": "https://localhost:8080/"
        },
        "id": "FABs8oM6pEQw",
        "outputId": "e12a2431-25e5-46b0-fcd4-e64921db5687"
      },
      "id": "FABs8oM6pEQw",
      "execution_count": null,
      "outputs": [
        {
          "output_type": "execute_result",
          "data": {
            "text/plain": [
              "array([[2876,  231],\n",
              "       [ 270, 2109]])"
            ]
          },
          "metadata": {},
          "execution_count": 65
        }
      ]
    }
  ],
  "metadata": {
    "kernelspec": {
      "display_name": "Python 3",
      "language": "python",
      "name": "python3"
    },
    "language_info": {
      "codemirror_mode": {
        "name": "ipython",
        "version": 3
      },
      "file_extension": ".py",
      "mimetype": "text/x-python",
      "name": "python",
      "nbconvert_exporter": "python",
      "pygments_lexer": "ipython3",
      "version": "3.10.12"
    },
    "papermill": {
      "default_parameters": {},
      "duration": 997.513035,
      "end_time": "2023-10-31T19:55:40.081299",
      "environment_variables": {},
      "exception": null,
      "input_path": "__notebook__.ipynb",
      "output_path": "__notebook__.ipynb",
      "parameters": {},
      "start_time": "2023-10-31T19:39:02.568264",
      "version": "2.4.0"
    },
    "colab": {
      "provenance": []
    }
  },
  "nbformat": 4,
  "nbformat_minor": 5
}